{
  "nbformat": 4,
  "nbformat_minor": 0,
  "metadata": {
    "colab": {
      "provenance": []
    },
    "kernelspec": {
      "name": "python3",
      "display_name": "Python 3"
    },
    "language_info": {
      "name": "python"
    }
  },
  "cells": [
    {
      "cell_type": "code",
      "execution_count": 1,
      "metadata": {
        "id": "3RNCtBxGTqSh"
      },
      "outputs": [],
      "source": [
        "import nltk\n",
        "from nltk import NaiveBayesClassifier, classify\n",
        "from nltk.corpus import stopwords\n",
        "from nltk.tokenize import word_tokenize\n"
      ]
    },
    {
      "cell_type": "code",
      "source": [
        "nltk.download('punkt')\n",
        "nltk.download('stopwords')"
      ],
      "metadata": {
        "colab": {
          "base_uri": "https://localhost:8080/"
        },
        "id": "u6Dyn0HfTsEw",
        "outputId": "b0e334ba-5f9d-4162-932f-ae635c4515f3"
      },
      "execution_count": 2,
      "outputs": [
        {
          "output_type": "stream",
          "name": "stderr",
          "text": [
            "[nltk_data] Downloading package punkt to /root/nltk_data...\n",
            "[nltk_data]   Unzipping tokenizers/punkt.zip.\n",
            "[nltk_data] Downloading package stopwords to /root/nltk_data...\n",
            "[nltk_data]   Unzipping corpora/stopwords.zip.\n"
          ]
        },
        {
          "output_type": "execute_result",
          "data": {
            "text/plain": [
              "True"
            ]
          },
          "metadata": {},
          "execution_count": 2
        }
      ]
    },
    {
      "cell_type": "code",
      "source": [
        "train_data = [\n",
        "    (\"He deposited money in the bank\", \"financial\"),\n",
        "    (\"She went to the bank to withdraw cash\", \"financial\"),\n",
        "    (\"The bank approved his loan\", \"financial\"),\n",
        "    (\"They sat by the river bank\", \"river\"),\n",
        "    (\"He walked along the bank of the river\", \"river\"),\n",
        "    (\"The bank was covered with grass\", \"river\")\n",
        "]\n"
      ],
      "metadata": {
        "id": "NA91Xu4ATzNe"
      },
      "execution_count": 3,
      "outputs": []
    },
    {
      "cell_type": "code",
      "source": [
        "stop_words = set(stopwords.words('english'))"
      ],
      "metadata": {
        "id": "C-Knn_rTUG6V"
      },
      "execution_count": 5,
      "outputs": []
    },
    {
      "cell_type": "code",
      "source": [],
      "metadata": {
        "id": "k577e9ClUTs9"
      },
      "execution_count": null,
      "outputs": []
    },
    {
      "cell_type": "code",
      "source": [
        "def extract_features(sentence):\n",
        "    words = word_tokenize(sentence.lower())\n",
        "    return {word: True for word in words if word not in stop_words}"
      ],
      "metadata": {
        "id": "vlQ17Gr8T9aJ"
      },
      "execution_count": 6,
      "outputs": []
    },
    {
      "cell_type": "code",
      "source": [
        "import nltk\n",
        "nltk.download('punkt_tab')"
      ],
      "metadata": {
        "colab": {
          "base_uri": "https://localhost:8080/"
        },
        "id": "4ZZwiQiwUUWi",
        "outputId": "6930f860-fe74-4fef-f9d4-0e78f8831575"
      },
      "execution_count": 8,
      "outputs": [
        {
          "output_type": "stream",
          "name": "stderr",
          "text": [
            "[nltk_data] Downloading package punkt_tab to /root/nltk_data...\n",
            "[nltk_data]   Unzipping tokenizers/punkt_tab.zip.\n"
          ]
        },
        {
          "output_type": "execute_result",
          "data": {
            "text/plain": [
              "True"
            ]
          },
          "metadata": {},
          "execution_count": 8
        }
      ]
    },
    {
      "cell_type": "code",
      "source": [
        "featuresets = [(extract_features(sent), label) for (sent, label) in train_data]"
      ],
      "metadata": {
        "id": "qEMXCAzuUMJC"
      },
      "execution_count": 13,
      "outputs": []
    },
    {
      "cell_type": "code",
      "source": [
        "feature=extract_features(\"He deposited money in the bank\")"
      ],
      "metadata": {
        "id": "QYsAhXQvXtWy"
      },
      "execution_count": 16,
      "outputs": []
    },
    {
      "cell_type": "code",
      "source": [
        "\n"
      ],
      "metadata": {
        "id": "ww8ziErJbWXW"
      },
      "execution_count": null,
      "outputs": []
    },
    {
      "cell_type": "code",
      "source": [],
      "metadata": {
        "id": "z8oPid9TXtSW"
      },
      "execution_count": null,
      "outputs": []
    },
    {
      "cell_type": "code",
      "source": [
        "classifier = NaiveBayesClassifier.train(featuresets)"
      ],
      "metadata": {
        "id": "Iltns7eEUR9l"
      },
      "execution_count": 10,
      "outputs": []
    },
    {
      "cell_type": "code",
      "source": [
        "label = classifier.classify(feature)\n",
        "label\n"
      ],
      "metadata": {
        "colab": {
          "base_uri": "https://localhost:8080/",
          "height": 36
        },
        "id": "oL1AgET-boWa",
        "outputId": "1c774d8d-377b-43db-ca42-49348551e6b0"
      },
      "execution_count": 18,
      "outputs": [
        {
          "output_type": "execute_result",
          "data": {
            "text/plain": [
              "'financial'"
            ],
            "application/vnd.google.colaboratory.intrinsic+json": {
              "type": "string"
            }
          },
          "metadata": {},
          "execution_count": 18
        }
      ]
    },
    {
      "cell_type": "code",
      "source": [
        "test_sentence = \"He sat near the bank and watched the sunset\"\n",
        "test_features = extract_features(test_sentence)"
      ],
      "metadata": {
        "id": "fiwyRi1qUcCt"
      },
      "execution_count": 19,
      "outputs": []
    },
    {
      "cell_type": "code",
      "source": [
        "print(\"Predicted sense:\", classifier.classify(test_features))"
      ],
      "metadata": {
        "colab": {
          "base_uri": "https://localhost:8080/"
        },
        "id": "cgvxBeM7Ugqe",
        "outputId": "5b4714d4-89c4-48a4-f0e7-1ad8a5b70752"
      },
      "execution_count": 20,
      "outputs": [
        {
          "output_type": "stream",
          "name": "stdout",
          "text": [
            "Predicted sense: river\n"
          ]
        }
      ]
    },
    {
      "cell_type": "code",
      "source": [
        "sentence = \"She applied for a loan at the bank\"\n",
        "features= extract_features(sentence)\n"
      ],
      "metadata": {
        "id": "-1Q3DUmYUjmK"
      },
      "execution_count": 21,
      "outputs": []
    },
    {
      "cell_type": "code",
      "source": [
        "label= classifier.classify(features)"
      ],
      "metadata": {
        "id": "YMIqitkhcKa6"
      },
      "execution_count": 22,
      "outputs": []
    },
    {
      "cell_type": "code",
      "source": [
        "label"
      ],
      "metadata": {
        "colab": {
          "base_uri": "https://localhost:8080/",
          "height": 36
        },
        "id": "iQxpuldlcRHy",
        "outputId": "239848f2-2322-4e3f-a52f-2c811999d3dc"
      },
      "execution_count": 23,
      "outputs": [
        {
          "output_type": "execute_result",
          "data": {
            "text/plain": [
              "'financial'"
            ],
            "application/vnd.google.colaboratory.intrinsic+json": {
              "type": "string"
            }
          },
          "metadata": {},
          "execution_count": 23
        }
      ]
    },
    {
      "cell_type": "code",
      "source": [
        "nltk.download('stopwords')\n",
        "nltk.download('punkt')"
      ],
      "metadata": {
        "colab": {
          "base_uri": "https://localhost:8080/"
        },
        "id": "rq30UEIfcSGh",
        "outputId": "c8585336-24b3-47c8-f2c2-e9bfd55cc355"
      },
      "execution_count": 25,
      "outputs": [
        {
          "output_type": "stream",
          "name": "stderr",
          "text": [
            "[nltk_data] Downloading package stopwords to /root/nltk_data...\n",
            "[nltk_data]   Package stopwords is already up-to-date!\n",
            "[nltk_data] Downloading package punkt to /root/nltk_data...\n",
            "[nltk_data]   Package punkt is already up-to-date!\n"
          ]
        },
        {
          "output_type": "execute_result",
          "data": {
            "text/plain": [
              "True"
            ]
          },
          "metadata": {},
          "execution_count": 25
        }
      ]
    },
    {
      "cell_type": "code",
      "source": [
        "hindi_stopwords = set([\n",
        "    'अंदर', 'अत', 'अदि', 'अप', 'अपना', 'अपनि', 'अपनी', 'अभी', 'आदि', 'आप',\n",
        "    'इत्यादि', 'इन', 'इनका', 'इन्हीं', 'इन्हें', 'इन्हों', 'इस', 'इसका', 'इसकी',\n",
        "    'इसके', 'इसमें', 'इसी', 'इसे', 'उन', 'उनका', 'उनकी', 'उनके', 'उनको', 'उन्हें',\n",
        "    'उन्हों', 'उस', 'उसके', 'उसको', 'उसी', 'उसे', 'एक', 'एवं', 'एस', 'ऐसे',\n",
        "    'और', 'कइ', 'कई', 'कर', 'करता', 'करते', 'करना', 'करने', 'करें', 'कहते',\n",
        "    'कहा', 'का', 'काफ़ी', 'कि', 'किंहें', 'किंहुं', 'किया', 'किस', 'किसी',\n",
        "    'किसे', 'की', 'कुछ', 'कुल', 'के', 'को', 'कोई', 'कौन', 'कौनसा', 'गया', 'घर',\n",
        "    'जब', 'जहाँ', 'जा', 'जितना', 'जिन', 'जिन्हें', 'जिन्हों', 'जिस', 'जिसे',\n",
        "    'जी', 'जैसे', 'जो', 'तक', 'तब', 'तरह', 'तिन्हें', 'तिन्हों', 'तिस', 'तिसे',\n",
        "    'तो', 'था', 'थि', 'थी', 'थे', 'दबारा', 'दिया', 'दिस', 'दुसरे', 'दो', 'द्वारा',\n",
        "    'न', 'नहीं', 'ना', 'निचे', 'नीचे', 'ने', 'पर', 'पहले', 'पूरा', 'फिर', 'बनी',\n",
        "    'बहि', 'बही', 'बहुत', 'बाद', 'बाला', 'बिलकुल', 'भी', 'भीतर', 'मगर', 'मानो',\n",
        "    'मे', 'में', 'यदि', 'यह', 'यहाँ', 'यहीं', 'यथा', 'या', 'यि', 'ये', 'रखें',\n",
        "    'रहा', 'रहे', 'ऱ्वासा', 'लिए', 'लिये', 'लेकिन', 'व', 'वग़ैरह', 'वर्ग', 'वह',\n",
        "    'वहाँ', 'वाले', 'वुह', 'वे', 'शायद', 'सकता', 'सकते', 'सबसे', 'सभी', 'साथ',\n",
        "    'साबुत', 'साभार', 'से', 'सो', 'हि', 'ही', 'हुआ', 'हुई', 'हुए', 'हे', 'हैं',\n",
        "    'हो', 'होता', 'होती', 'होते', 'होना', 'होने'\n",
        "])\n"
      ],
      "metadata": {
        "id": "GACK2FCKdI4w"
      },
      "execution_count": 33,
      "outputs": []
    },
    {
      "cell_type": "code",
      "source": [
        "def extract_features(sentence):\n",
        "    words = word_tokenize(sentence.lower())\n",
        "    return {word: True for word in words if word not in hindi_stopwords}"
      ],
      "metadata": {
        "id": "szB6Cd2TdI7V"
      },
      "execution_count": 28,
      "outputs": []
    },
    {
      "cell_type": "code",
      "source": [
        "train_data = [\n",
        "    (\"उसने बैंक में पैसे जमा किए\", \"financial\"),\n",
        "    (\"वे नदी के किनारे बैठे\", \"river\"),\n",
        "    (\"बैंक ने उसका लोन मंज़ूर कर दिया\", \"financial\"),\n",
        "    (\"बच्चे नदी के बैंक पर खेल रहे थे\", \"river\")\n",
        "]"
      ],
      "metadata": {
        "id": "mZ0btLC8dI9d"
      },
      "execution_count": 29,
      "outputs": []
    },
    {
      "cell_type": "code",
      "source": [
        "featuresets = [(extract_features(sent), label) for (sent, label) in train_data]\n",
        "\n",
        "classifier = NaiveBayesClassifier.train(featuresets)"
      ],
      "metadata": {
        "id": "i0tsyYNcdI_e"
      },
      "execution_count": 30,
      "outputs": []
    },
    {
      "cell_type": "code",
      "source": [
        "test_sentence = \"बच्चे बैंक के पास खेल रहे थे\"\n",
        "test_features = extract_features(test_sentence)"
      ],
      "metadata": {
        "id": "jyp4qTBndJC3"
      },
      "execution_count": 31,
      "outputs": []
    },
    {
      "cell_type": "code",
      "source": [
        "print(\"Sentence:\", test_sentence)\n",
        "print(\"Predicted sense:\", classifier.classify(test_features))"
      ],
      "metadata": {
        "colab": {
          "base_uri": "https://localhost:8080/"
        },
        "id": "rPcznQzxdmVS",
        "outputId": "08b04cab-38cd-4e9d-b335-77a7a4515725"
      },
      "execution_count": 32,
      "outputs": [
        {
          "output_type": "stream",
          "name": "stdout",
          "text": [
            "Sentence: बच्चे बैंक के पास खेल रहे थे\n",
            "Predicted sense: river\n"
          ]
        }
      ]
    },
    {
      "cell_type": "code",
      "source": [
        "examples = [\n",
        "    \"बैंक में पैसे जमा करने गया\",\n",
        "    \"नदी के किनारे बैठकर वह गीत गा रही थी\",\n",
        "    \"उसने अपने अकाउंट से पैसे निकाले\",\n",
        "    \"बच्चे नदी के बैंक पर पत्थर फेंक रहे थे\",\n",
        "    \"बैंक ने उसका लोन अस्वीकार कर दिया\",\n",
        "    \"वे लोग नदी के बैंक से मछली पकड़ रहे थे\"\n",
        "]\n",
        "\n",
        "for sent in examples:\n",
        "    features = extract_features(sent)\n",
        "    label = classifier.classify(features)\n",
        "    print(f\"Sentence: {sent} ➤ Predicted Sense: {label}\")\n"
      ],
      "metadata": {
        "colab": {
          "base_uri": "https://localhost:8080/"
        },
        "id": "bPpvuB10doXt",
        "outputId": "c6e0fe53-2ebb-4bf4-9f7c-3383239933ad"
      },
      "execution_count": 34,
      "outputs": [
        {
          "output_type": "stream",
          "name": "stdout",
          "text": [
            "Sentence: बैंक में पैसे जमा करने गया ➤ Predicted Sense: financial\n",
            "Sentence: नदी के किनारे बैठकर वह गीत गा रही थी ➤ Predicted Sense: river\n",
            "Sentence: उसने अपने अकाउंट से पैसे निकाले ➤ Predicted Sense: financial\n",
            "Sentence: बच्चे नदी के बैंक पर पत्थर फेंक रहे थे ➤ Predicted Sense: river\n",
            "Sentence: बैंक ने उसका लोन अस्वीकार कर दिया ➤ Predicted Sense: financial\n",
            "Sentence: वे लोग नदी के बैंक से मछली पकड़ रहे थे ➤ Predicted Sense: river\n"
          ]
        }
      ]
    },
    {
      "cell_type": "code",
      "source": [
        "train_vakya = [\n",
        "    (\"आजकल तकनीक की माँग हर क्षेत्र में बढ़ रही है\", \"demand\"),\n",
        "    (\"विवाहित महिलाएँ त्योहारों पर अपनी माँग में सिंदूर लगाती हैं।\", \"parting\"),\n",
        "    (\"सरकार से वेतन वृद्धि की माँग की जा रही है\", \"demand\"),\n",
        "    (\"उसकी माँग में सिंदूर देखकर सब समझ गए\", \"parting\"),\n",
        "    (\"बाजार में इस उत्पाद की माँग बहुत अधिक है\", \"demand\"),\n",
        "    (\"दुल्हन की माँग बहुत सुंदर लग रही थी\", \"parting\")\n",
        "]\n"
      ],
      "metadata": {
        "id": "z-GPjC2KeCtK"
      },
      "execution_count": 39,
      "outputs": []
    },
    {
      "cell_type": "code",
      "source": [
        "featureset = [(extract_features(sent), label) for (sent, label) in train_vakya]\n"
      ],
      "metadata": {
        "id": "MiYi6wKq1xVl"
      },
      "execution_count": 40,
      "outputs": []
    },
    {
      "cell_type": "code",
      "source": [
        "classifier = NaiveBayesClassifier.train(featureset)\n"
      ],
      "metadata": {
        "id": "50vxUapB2gKI"
      },
      "execution_count": 41,
      "outputs": []
    },
    {
      "cell_type": "code",
      "source": [
        "test_sentences = [\n",
        "    \"सरकार ने किसानों की माँग को मान लिया\",\n",
        "    \"उसने अपनी माँग में लाल सिंदूर भरा\",\n",
        "    \"शादी के बाद माँग भरना शुभ माना जाता है\",\n",
        "    \"त्योहार के समय बिजली की माँग बढ़ जाती है\"\n",
        "]\n",
        "\n",
        "for sent in test_sentences:\n",
        "    features = extract_features(sent)\n",
        "    prediction = classifier.classify(features)\n",
        "    print(f\"{sent} ➤ Sense: {prediction}\")\n"
      ],
      "metadata": {
        "colab": {
          "base_uri": "https://localhost:8080/"
        },
        "id": "k6InTfch3o4g",
        "outputId": "ad335432-1364-4c26-acb3-1271e141e8d9"
      },
      "execution_count": 42,
      "outputs": [
        {
          "output_type": "stream",
          "name": "stdout",
          "text": [
            "सरकार ने किसानों की माँग को मान लिया ➤ Sense: demand\n",
            "उसने अपनी माँग में लाल सिंदूर भरा ➤ Sense: parting\n",
            "शादी के बाद माँग भरना शुभ माना जाता है ➤ Sense: demand\n",
            "त्योहार के समय बिजली की माँग बढ़ जाती है ➤ Sense: demand\n"
          ]
        }
      ]
    },
    {
      "cell_type": "code",
      "source": [],
      "metadata": {
        "id": "ijmSpr_y3rys"
      },
      "execution_count": null,
      "outputs": []
    }
  ]
}