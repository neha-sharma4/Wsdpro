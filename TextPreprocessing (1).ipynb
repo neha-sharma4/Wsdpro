{
  "nbformat": 4,
  "nbformat_minor": 0,
  "metadata": {
    "colab": {
      "provenance": []
    },
    "kernelspec": {
      "name": "python3",
      "display_name": "Python 3"
    },
    "language_info": {
      "name": "python"
    }
  },
  "cells": [
    {
      "cell_type": "code",
      "execution_count": null,
      "metadata": {
        "id": "WurdKIXtf77E"
      },
      "outputs": [],
      "source": [
        "import numpy as np\n",
        "import pandas as pd\n",
        "import re\n",
        "import string\n",
        "import time\n",
        "import nltk"
      ]
    },
    {
      "cell_type": "code",
      "source": [
        "!pip install pyspellchecker"
      ],
      "metadata": {
        "colab": {
          "base_uri": "https://localhost:8080/"
        },
        "id": "uZYT4J8buyJ1",
        "outputId": "fa21ecc4-fde5-43ca-eb84-ba85548e5298"
      },
      "execution_count": null,
      "outputs": [
        {
          "output_type": "stream",
          "name": "stdout",
          "text": [
            "Collecting pyspellchecker\n",
            "  Downloading pyspellchecker-0.8.2-py3-none-any.whl.metadata (9.4 kB)\n",
            "Downloading pyspellchecker-0.8.2-py3-none-any.whl (7.1 MB)\n",
            "\u001b[2K   \u001b[90m━━━━━━━━━━━━━━━━━━━━━━━━━━━━━━━━━━━━━━━━\u001b[0m \u001b[32m7.1/7.1 MB\u001b[0m \u001b[31m44.1 MB/s\u001b[0m eta \u001b[36m0:00:00\u001b[0m\n",
            "\u001b[?25hInstalling collected packages: pyspellchecker\n",
            "Successfully installed pyspellchecker-0.8.2\n"
          ]
        }
      ]
    },
    {
      "cell_type": "code",
      "source": [
        "df = pd.read_csv('/content/IMDB Dataset.csv')"
      ],
      "metadata": {
        "id": "fInL1daAgdDo"
      },
      "execution_count": null,
      "outputs": []
    },
    {
      "cell_type": "code",
      "source": [
        "df.info()"
      ],
      "metadata": {
        "colab": {
          "base_uri": "https://localhost:8080/"
        },
        "id": "HDy3HPH4hsov",
        "outputId": "61a60c6c-2bc8-4336-d981-f348f8dc6786"
      },
      "execution_count": null,
      "outputs": [
        {
          "output_type": "stream",
          "name": "stdout",
          "text": [
            "<class 'pandas.core.frame.DataFrame'>\n",
            "RangeIndex: 50000 entries, 0 to 49999\n",
            "Data columns (total 2 columns):\n",
            " #   Column     Non-Null Count  Dtype \n",
            "---  ------     --------------  ----- \n",
            " 0   review     50000 non-null  object\n",
            " 1   sentiment  50000 non-null  object\n",
            "dtypes: object(2)\n",
            "memory usage: 781.4+ KB\n"
          ]
        }
      ]
    },
    {
      "cell_type": "code",
      "source": [
        "df.head()"
      ],
      "metadata": {
        "colab": {
          "base_uri": "https://localhost:8080/",
          "height": 206
        },
        "id": "a85W_FeWhufA",
        "outputId": "5db58aca-2b24-4001-f605-aaeda59c73c5"
      },
      "execution_count": null,
      "outputs": [
        {
          "output_type": "execute_result",
          "data": {
            "text/plain": [
              "                                              review sentiment\n",
              "0  One of the other reviewers has mentioned that ...  positive\n",
              "1  A wonderful little production. <br /><br />The...  positive\n",
              "2  I thought this was a wonderful way to spend ti...  positive\n",
              "3  Basically there's a family where a little boy ...  negative\n",
              "4  Petter Mattei's \"Love in the Time of Money\" is...  positive"
            ],
            "text/html": [
              "\n",
              "  <div id=\"df-edabfc6f-6390-4768-9d50-95f62ddb1b05\" class=\"colab-df-container\">\n",
              "    <div>\n",
              "<style scoped>\n",
              "    .dataframe tbody tr th:only-of-type {\n",
              "        vertical-align: middle;\n",
              "    }\n",
              "\n",
              "    .dataframe tbody tr th {\n",
              "        vertical-align: top;\n",
              "    }\n",
              "\n",
              "    .dataframe thead th {\n",
              "        text-align: right;\n",
              "    }\n",
              "</style>\n",
              "<table border=\"1\" class=\"dataframe\">\n",
              "  <thead>\n",
              "    <tr style=\"text-align: right;\">\n",
              "      <th></th>\n",
              "      <th>review</th>\n",
              "      <th>sentiment</th>\n",
              "    </tr>\n",
              "  </thead>\n",
              "  <tbody>\n",
              "    <tr>\n",
              "      <th>0</th>\n",
              "      <td>One of the other reviewers has mentioned that ...</td>\n",
              "      <td>positive</td>\n",
              "    </tr>\n",
              "    <tr>\n",
              "      <th>1</th>\n",
              "      <td>A wonderful little production. &lt;br /&gt;&lt;br /&gt;The...</td>\n",
              "      <td>positive</td>\n",
              "    </tr>\n",
              "    <tr>\n",
              "      <th>2</th>\n",
              "      <td>I thought this was a wonderful way to spend ti...</td>\n",
              "      <td>positive</td>\n",
              "    </tr>\n",
              "    <tr>\n",
              "      <th>3</th>\n",
              "      <td>Basically there's a family where a little boy ...</td>\n",
              "      <td>negative</td>\n",
              "    </tr>\n",
              "    <tr>\n",
              "      <th>4</th>\n",
              "      <td>Petter Mattei's \"Love in the Time of Money\" is...</td>\n",
              "      <td>positive</td>\n",
              "    </tr>\n",
              "  </tbody>\n",
              "</table>\n",
              "</div>\n",
              "    <div class=\"colab-df-buttons\">\n",
              "\n",
              "  <div class=\"colab-df-container\">\n",
              "    <button class=\"colab-df-convert\" onclick=\"convertToInteractive('df-edabfc6f-6390-4768-9d50-95f62ddb1b05')\"\n",
              "            title=\"Convert this dataframe to an interactive table.\"\n",
              "            style=\"display:none;\">\n",
              "\n",
              "  <svg xmlns=\"http://www.w3.org/2000/svg\" height=\"24px\" viewBox=\"0 -960 960 960\">\n",
              "    <path d=\"M120-120v-720h720v720H120Zm60-500h600v-160H180v160Zm220 220h160v-160H400v160Zm0 220h160v-160H400v160ZM180-400h160v-160H180v160Zm440 0h160v-160H620v160ZM180-180h160v-160H180v160Zm440 0h160v-160H620v160Z\"/>\n",
              "  </svg>\n",
              "    </button>\n",
              "\n",
              "  <style>\n",
              "    .colab-df-container {\n",
              "      display:flex;\n",
              "      gap: 12px;\n",
              "    }\n",
              "\n",
              "    .colab-df-convert {\n",
              "      background-color: #E8F0FE;\n",
              "      border: none;\n",
              "      border-radius: 50%;\n",
              "      cursor: pointer;\n",
              "      display: none;\n",
              "      fill: #1967D2;\n",
              "      height: 32px;\n",
              "      padding: 0 0 0 0;\n",
              "      width: 32px;\n",
              "    }\n",
              "\n",
              "    .colab-df-convert:hover {\n",
              "      background-color: #E2EBFA;\n",
              "      box-shadow: 0px 1px 2px rgba(60, 64, 67, 0.3), 0px 1px 3px 1px rgba(60, 64, 67, 0.15);\n",
              "      fill: #174EA6;\n",
              "    }\n",
              "\n",
              "    .colab-df-buttons div {\n",
              "      margin-bottom: 4px;\n",
              "    }\n",
              "\n",
              "    [theme=dark] .colab-df-convert {\n",
              "      background-color: #3B4455;\n",
              "      fill: #D2E3FC;\n",
              "    }\n",
              "\n",
              "    [theme=dark] .colab-df-convert:hover {\n",
              "      background-color: #434B5C;\n",
              "      box-shadow: 0px 1px 3px 1px rgba(0, 0, 0, 0.15);\n",
              "      filter: drop-shadow(0px 1px 2px rgba(0, 0, 0, 0.3));\n",
              "      fill: #FFFFFF;\n",
              "    }\n",
              "  </style>\n",
              "\n",
              "    <script>\n",
              "      const buttonEl =\n",
              "        document.querySelector('#df-edabfc6f-6390-4768-9d50-95f62ddb1b05 button.colab-df-convert');\n",
              "      buttonEl.style.display =\n",
              "        google.colab.kernel.accessAllowed ? 'block' : 'none';\n",
              "\n",
              "      async function convertToInteractive(key) {\n",
              "        const element = document.querySelector('#df-edabfc6f-6390-4768-9d50-95f62ddb1b05');\n",
              "        const dataTable =\n",
              "          await google.colab.kernel.invokeFunction('convertToInteractive',\n",
              "                                                    [key], {});\n",
              "        if (!dataTable) return;\n",
              "\n",
              "        const docLinkHtml = 'Like what you see? Visit the ' +\n",
              "          '<a target=\"_blank\" href=https://colab.research.google.com/notebooks/data_table.ipynb>data table notebook</a>'\n",
              "          + ' to learn more about interactive tables.';\n",
              "        element.innerHTML = '';\n",
              "        dataTable['output_type'] = 'display_data';\n",
              "        await google.colab.output.renderOutput(dataTable, element);\n",
              "        const docLink = document.createElement('div');\n",
              "        docLink.innerHTML = docLinkHtml;\n",
              "        element.appendChild(docLink);\n",
              "      }\n",
              "    </script>\n",
              "  </div>\n",
              "\n",
              "\n",
              "<div id=\"df-104e5c8e-38d9-4ca3-9a73-0d080eb180f8\">\n",
              "  <button class=\"colab-df-quickchart\" onclick=\"quickchart('df-104e5c8e-38d9-4ca3-9a73-0d080eb180f8')\"\n",
              "            title=\"Suggest charts\"\n",
              "            style=\"display:none;\">\n",
              "\n",
              "<svg xmlns=\"http://www.w3.org/2000/svg\" height=\"24px\"viewBox=\"0 0 24 24\"\n",
              "     width=\"24px\">\n",
              "    <g>\n",
              "        <path d=\"M19 3H5c-1.1 0-2 .9-2 2v14c0 1.1.9 2 2 2h14c1.1 0 2-.9 2-2V5c0-1.1-.9-2-2-2zM9 17H7v-7h2v7zm4 0h-2V7h2v10zm4 0h-2v-4h2v4z\"/>\n",
              "    </g>\n",
              "</svg>\n",
              "  </button>\n",
              "\n",
              "<style>\n",
              "  .colab-df-quickchart {\n",
              "      --bg-color: #E8F0FE;\n",
              "      --fill-color: #1967D2;\n",
              "      --hover-bg-color: #E2EBFA;\n",
              "      --hover-fill-color: #174EA6;\n",
              "      --disabled-fill-color: #AAA;\n",
              "      --disabled-bg-color: #DDD;\n",
              "  }\n",
              "\n",
              "  [theme=dark] .colab-df-quickchart {\n",
              "      --bg-color: #3B4455;\n",
              "      --fill-color: #D2E3FC;\n",
              "      --hover-bg-color: #434B5C;\n",
              "      --hover-fill-color: #FFFFFF;\n",
              "      --disabled-bg-color: #3B4455;\n",
              "      --disabled-fill-color: #666;\n",
              "  }\n",
              "\n",
              "  .colab-df-quickchart {\n",
              "    background-color: var(--bg-color);\n",
              "    border: none;\n",
              "    border-radius: 50%;\n",
              "    cursor: pointer;\n",
              "    display: none;\n",
              "    fill: var(--fill-color);\n",
              "    height: 32px;\n",
              "    padding: 0;\n",
              "    width: 32px;\n",
              "  }\n",
              "\n",
              "  .colab-df-quickchart:hover {\n",
              "    background-color: var(--hover-bg-color);\n",
              "    box-shadow: 0 1px 2px rgba(60, 64, 67, 0.3), 0 1px 3px 1px rgba(60, 64, 67, 0.15);\n",
              "    fill: var(--button-hover-fill-color);\n",
              "  }\n",
              "\n",
              "  .colab-df-quickchart-complete:disabled,\n",
              "  .colab-df-quickchart-complete:disabled:hover {\n",
              "    background-color: var(--disabled-bg-color);\n",
              "    fill: var(--disabled-fill-color);\n",
              "    box-shadow: none;\n",
              "  }\n",
              "\n",
              "  .colab-df-spinner {\n",
              "    border: 2px solid var(--fill-color);\n",
              "    border-color: transparent;\n",
              "    border-bottom-color: var(--fill-color);\n",
              "    animation:\n",
              "      spin 1s steps(1) infinite;\n",
              "  }\n",
              "\n",
              "  @keyframes spin {\n",
              "    0% {\n",
              "      border-color: transparent;\n",
              "      border-bottom-color: var(--fill-color);\n",
              "      border-left-color: var(--fill-color);\n",
              "    }\n",
              "    20% {\n",
              "      border-color: transparent;\n",
              "      border-left-color: var(--fill-color);\n",
              "      border-top-color: var(--fill-color);\n",
              "    }\n",
              "    30% {\n",
              "      border-color: transparent;\n",
              "      border-left-color: var(--fill-color);\n",
              "      border-top-color: var(--fill-color);\n",
              "      border-right-color: var(--fill-color);\n",
              "    }\n",
              "    40% {\n",
              "      border-color: transparent;\n",
              "      border-right-color: var(--fill-color);\n",
              "      border-top-color: var(--fill-color);\n",
              "    }\n",
              "    60% {\n",
              "      border-color: transparent;\n",
              "      border-right-color: var(--fill-color);\n",
              "    }\n",
              "    80% {\n",
              "      border-color: transparent;\n",
              "      border-right-color: var(--fill-color);\n",
              "      border-bottom-color: var(--fill-color);\n",
              "    }\n",
              "    90% {\n",
              "      border-color: transparent;\n",
              "      border-bottom-color: var(--fill-color);\n",
              "    }\n",
              "  }\n",
              "</style>\n",
              "\n",
              "  <script>\n",
              "    async function quickchart(key) {\n",
              "      const quickchartButtonEl =\n",
              "        document.querySelector('#' + key + ' button');\n",
              "      quickchartButtonEl.disabled = true;  // To prevent multiple clicks.\n",
              "      quickchartButtonEl.classList.add('colab-df-spinner');\n",
              "      try {\n",
              "        const charts = await google.colab.kernel.invokeFunction(\n",
              "            'suggestCharts', [key], {});\n",
              "      } catch (error) {\n",
              "        console.error('Error during call to suggestCharts:', error);\n",
              "      }\n",
              "      quickchartButtonEl.classList.remove('colab-df-spinner');\n",
              "      quickchartButtonEl.classList.add('colab-df-quickchart-complete');\n",
              "    }\n",
              "    (() => {\n",
              "      let quickchartButtonEl =\n",
              "        document.querySelector('#df-104e5c8e-38d9-4ca3-9a73-0d080eb180f8 button');\n",
              "      quickchartButtonEl.style.display =\n",
              "        google.colab.kernel.accessAllowed ? 'block' : 'none';\n",
              "    })();\n",
              "  </script>\n",
              "</div>\n",
              "\n",
              "    </div>\n",
              "  </div>\n"
            ],
            "application/vnd.google.colaboratory.intrinsic+json": {
              "type": "dataframe",
              "variable_name": "df",
              "summary": "{\n  \"name\": \"df\",\n  \"rows\": 50000,\n  \"fields\": [\n    {\n      \"column\": \"review\",\n      \"properties\": {\n        \"dtype\": \"string\",\n        \"num_unique_values\": 49582,\n        \"samples\": [\n          \"\\\"Soul Plane\\\" is a horrible attempt at comedy that only should appeal people with thick skulls, bloodshot eyes and furry pawns. <br /><br />The plot is not only incoherent but also non-existent, acting is mostly sub sub-par with a gang of highly moronic and dreadful characters thrown in for bad measure, jokes are often spotted miles ahead and almost never even a bit amusing. This movie lacks any structure and is full of racial stereotypes that must have seemed old even in the fifties, the only thing it really has going for it is some pretty ladies, but really, if you want that you can rent something from the \\\"Adult\\\" section. OK?<br /><br />I can hardly see anything here to recommend since you'll probably have a lot a better and productive time chasing rats with a sledgehammer or inventing waterproof teabags or whatever.<br /><br />2/10\",\n          \"Guest from the Future tells a fascinating story of time travel, friendship, battle of good and evil -- all with a small budget, child actors, and few special effects. Something for Spielberg and Lucas to learn from. ;) A sixth-grader Kolya \\\"Nick\\\" Gerasimov finds a time machine in the basement of a decrepit building and travels 100 years into the future. He discovers a near-perfect, utopian society where robots play guitars and write poetry, everyone is kind to each other and people enjoy everything technology has to offer. Alice is the daughter of a prominent scientist who invented a device called Mielophone that allows to read minds of humans and animals. The device can be put to both good and bad use, depending on whose hands it falls into. When two evil space pirates from Saturn who want to rule the universe attempt to steal Mielophone, it falls into the hands of 20th century school boy Nick. With the pirates hot on his tracks, he travels back to his time, followed by the pirates, and Alice. Chaos, confusion and funny situations follow as the luckless pirates try to blend in with the earthlings. Alice enrolls in the same school Nick goes to and demonstrates superhuman abilities in PE class. The catch is, Alice doesn't know what Nick looks like, while the pirates do. Also, the pirates are able to change their appearance and turn literally into anyone. (Hmm, I wonder if this is where James Cameron got the idea for Terminator...) Who gets to Nick -- and Mielophone -- first? Excellent plot, non-stop adventures, and great soundtrack. I wish Hollywood made kid movies like this one...\",\n          \"\\\"National Treasure\\\" (2004) is a thoroughly misguided hodge-podge of plot entanglements that borrow from nearly every cloak and dagger government conspiracy clich\\u00e9 that has ever been written. The film stars Nicholas Cage as Benjamin Franklin Gates (how precious is that, I ask you?); a seemingly normal fellow who, for no other reason than being of a lineage of like-minded misguided fortune hunters, decides to steal a 'national treasure' that has been hidden by the United States founding fathers. After a bit of subtext and background that plays laughably (unintentionally) like Indiana Jones meets The Patriot, the film degenerates into one misguided whimsy after another \\u0096 attempting to create a 'Stanley Goodspeed' regurgitation of Nicholas Cage and launch the whole convoluted mess forward with a series of high octane, but disconnected misadventures.<br /><br />The relevancy and logic to having George Washington and his motley crew of patriots burying a king's ransom someplace on native soil, and then, going through the meticulous plan of leaving clues scattered throughout U.S. currency art work, is something that director Jon Turteltaub never quite gets around to explaining. Couldn't Washington found better usage for such wealth during the start up of the country? Hence, we are left with a mystery built on top of an enigma that is already on shaky ground by the time Ben appoints himself the new custodian of this untold wealth. Ben's intentions are noble \\u0096 if confusing. He's set on protecting the treasure. For who and when?\\u0085your guess is as good as mine.<br /><br />But there are a few problems with Ben's crusade. First up, his friend, Ian Holmes (Sean Bean) decides that he can't wait for Ben to make up his mind about stealing the Declaration of Independence from the National Archives (oh, yeah \\u0096 brilliant idea!). Presumably, the back of that famous document holds the secret answer to the ultimate fortune. So Ian tries to kill Ben. The assassination attempt is, of course, unsuccessful, if overly melodramatic. It also affords Ben the opportunity to pick up, and pick on, the very sultry curator of the archives, Abigail Chase (Diane Kruger). She thinks Ben is clearly a nut \\u0096 at least at the beginning. But true to action/romance form, Abby's resolve melts quicker than you can say, \\\"is that the Hope Diamond?\\\" The film moves into full X-File-ish mode, as the FBI, mistakenly believing that Ben is behind the theft, retaliate in various benign ways that lead to a multi-layering of action sequences reminiscent of Mission Impossible meets The Fugitive. Honestly, don't those guys ever get 'intelligence' information that is correct? In the final analysis, \\\"National Treasure\\\" isn't great film making, so much as it's a patchwork rehash of tired old bits from other movies, woven together from scraps, the likes of which would make IL' Betsy Ross blush.<br /><br />The Buena Vista DVD delivers a far more generous treatment than this film is deserving of. The anamorphic widescreen picture exhibits a very smooth and finely detailed image with very rich colors, natural flesh tones, solid blacks and clean whites. The stylized image is also free of blemishes and digital enhancements. The audio is 5.1 and delivers a nice sonic boom to your side and rear speakers with intensity and realism. Extras include a host of promotional junket material that is rather deep and over the top in its explanation of how and why this film was made. If only, as an audience, we had had more clarification as to why Ben and co. were chasing after an illusive treasure, this might have been one good flick. Extras conclude with the theatrical trailer, audio commentary and deleted scenes. Not for the faint-hearted \\u0096 just the thick-headed.\"\n        ],\n        \"semantic_type\": \"\",\n        \"description\": \"\"\n      }\n    },\n    {\n      \"column\": \"sentiment\",\n      \"properties\": {\n        \"dtype\": \"category\",\n        \"num_unique_values\": 2,\n        \"samples\": [\n          \"negative\",\n          \"positive\"\n        ],\n        \"semantic_type\": \"\",\n        \"description\": \"\"\n      }\n    }\n  ]\n}"
            }
          },
          "metadata": {},
          "execution_count": 7
        }
      ]
    },
    {
      "cell_type": "code",
      "source": [
        "df.shape"
      ],
      "metadata": {
        "colab": {
          "base_uri": "https://localhost:8080/"
        },
        "id": "7VIXez_Fh2xj",
        "outputId": "630046c9-1011-4958-fa04-d8250c71fa12"
      },
      "execution_count": null,
      "outputs": [
        {
          "output_type": "execute_result",
          "data": {
            "text/plain": [
              "(50000, 2)"
            ]
          },
          "metadata": {},
          "execution_count": 8
        }
      ]
    },
    {
      "cell_type": "markdown",
      "source": [
        "###Lowercasing"
      ],
      "metadata": {
        "id": "8U_z92UPiALb"
      }
    },
    {
      "cell_type": "code",
      "source": [
        "df['review'].str.lower().head()"
      ],
      "metadata": {
        "colab": {
          "base_uri": "https://localhost:8080/",
          "height": 241
        },
        "id": "GFjAj7olh49P",
        "outputId": "b2306655-c196-470b-b14c-cb4b64010fe4"
      },
      "execution_count": null,
      "outputs": [
        {
          "output_type": "execute_result",
          "data": {
            "text/plain": [
              "0    one of the other reviewers has mentioned that ...\n",
              "1    a wonderful little production. <br /><br />the...\n",
              "2    i thought this was a wonderful way to spend ti...\n",
              "3    basically there's a family where a little boy ...\n",
              "4    petter mattei's \"love in the time of money\" is...\n",
              "Name: review, dtype: object"
            ],
            "text/html": [
              "<div>\n",
              "<style scoped>\n",
              "    .dataframe tbody tr th:only-of-type {\n",
              "        vertical-align: middle;\n",
              "    }\n",
              "\n",
              "    .dataframe tbody tr th {\n",
              "        vertical-align: top;\n",
              "    }\n",
              "\n",
              "    .dataframe thead th {\n",
              "        text-align: right;\n",
              "    }\n",
              "</style>\n",
              "<table border=\"1\" class=\"dataframe\">\n",
              "  <thead>\n",
              "    <tr style=\"text-align: right;\">\n",
              "      <th></th>\n",
              "      <th>review</th>\n",
              "    </tr>\n",
              "  </thead>\n",
              "  <tbody>\n",
              "    <tr>\n",
              "      <th>0</th>\n",
              "      <td>one of the other reviewers has mentioned that ...</td>\n",
              "    </tr>\n",
              "    <tr>\n",
              "      <th>1</th>\n",
              "      <td>a wonderful little production. &lt;br /&gt;&lt;br /&gt;the...</td>\n",
              "    </tr>\n",
              "    <tr>\n",
              "      <th>2</th>\n",
              "      <td>i thought this was a wonderful way to spend ti...</td>\n",
              "    </tr>\n",
              "    <tr>\n",
              "      <th>3</th>\n",
              "      <td>basically there's a family where a little boy ...</td>\n",
              "    </tr>\n",
              "    <tr>\n",
              "      <th>4</th>\n",
              "      <td>petter mattei's \"love in the time of money\" is...</td>\n",
              "    </tr>\n",
              "  </tbody>\n",
              "</table>\n",
              "</div><br><label><b>dtype:</b> object</label>"
            ]
          },
          "metadata": {},
          "execution_count": 9
        }
      ]
    },
    {
      "cell_type": "code",
      "source": [
        "df['review'] = df['review'].str.lower()"
      ],
      "metadata": {
        "id": "uS5mOx8KiNg1"
      },
      "execution_count": null,
      "outputs": []
    },
    {
      "cell_type": "markdown",
      "source": [
        "###Remove HTML tags"
      ],
      "metadata": {
        "id": "oITvJFkciZNm"
      }
    },
    {
      "cell_type": "code",
      "source": [
        "def remove_html_tags(text):\n",
        "    pattern = re.compile('<.*?>')\n",
        "    return pattern.sub(r'', text)"
      ],
      "metadata": {
        "id": "7S7yoscEiVSh"
      },
      "execution_count": null,
      "outputs": []
    },
    {
      "cell_type": "code",
      "source": [
        "df['review'].apply(remove_html_tags).head()"
      ],
      "metadata": {
        "colab": {
          "base_uri": "https://localhost:8080/",
          "height": 241
        },
        "id": "68y6d13ci4sf",
        "outputId": "cd007b53-5361-4790-9e8c-582abd711a56"
      },
      "execution_count": null,
      "outputs": [
        {
          "output_type": "execute_result",
          "data": {
            "text/plain": [
              "0    one of the other reviewers has mentioned that ...\n",
              "1    a wonderful little production. the filming tec...\n",
              "2    i thought this was a wonderful way to spend ti...\n",
              "3    basically there's a family where a little boy ...\n",
              "4    petter mattei's \"love in the time of money\" is...\n",
              "Name: review, dtype: object"
            ],
            "text/html": [
              "<div>\n",
              "<style scoped>\n",
              "    .dataframe tbody tr th:only-of-type {\n",
              "        vertical-align: middle;\n",
              "    }\n",
              "\n",
              "    .dataframe tbody tr th {\n",
              "        vertical-align: top;\n",
              "    }\n",
              "\n",
              "    .dataframe thead th {\n",
              "        text-align: right;\n",
              "    }\n",
              "</style>\n",
              "<table border=\"1\" class=\"dataframe\">\n",
              "  <thead>\n",
              "    <tr style=\"text-align: right;\">\n",
              "      <th></th>\n",
              "      <th>review</th>\n",
              "    </tr>\n",
              "  </thead>\n",
              "  <tbody>\n",
              "    <tr>\n",
              "      <th>0</th>\n",
              "      <td>one of the other reviewers has mentioned that ...</td>\n",
              "    </tr>\n",
              "    <tr>\n",
              "      <th>1</th>\n",
              "      <td>a wonderful little production. the filming tec...</td>\n",
              "    </tr>\n",
              "    <tr>\n",
              "      <th>2</th>\n",
              "      <td>i thought this was a wonderful way to spend ti...</td>\n",
              "    </tr>\n",
              "    <tr>\n",
              "      <th>3</th>\n",
              "      <td>basically there's a family where a little boy ...</td>\n",
              "    </tr>\n",
              "    <tr>\n",
              "      <th>4</th>\n",
              "      <td>petter mattei's \"love in the time of money\" is...</td>\n",
              "    </tr>\n",
              "  </tbody>\n",
              "</table>\n",
              "</div><br><label><b>dtype:</b> object</label>"
            ]
          },
          "metadata": {},
          "execution_count": 12
        }
      ]
    },
    {
      "cell_type": "code",
      "source": [
        "df['review'] = df['review'].apply(remove_html_tags)"
      ],
      "metadata": {
        "id": "HS8F6qvli8rY"
      },
      "execution_count": null,
      "outputs": []
    },
    {
      "cell_type": "markdown",
      "source": [
        "###Remove URLs"
      ],
      "metadata": {
        "id": "t-k5FatajMmi"
      }
    },
    {
      "cell_type": "code",
      "source": [
        "def remove_urls(text):\n",
        "    pattern = re.compile(r'https?://\\S+|www\\.\\S+')\n",
        "    return pattern.sub(r'', text)"
      ],
      "metadata": {
        "id": "2c1e_SEbjGFL"
      },
      "execution_count": null,
      "outputs": []
    },
    {
      "cell_type": "code",
      "source": [
        "text = \"hello please visit https://github.com/deepankargupta856 to view my projects you can google me as well www.google.com \""
      ],
      "metadata": {
        "id": "qKwWrYSvj6hn"
      },
      "execution_count": null,
      "outputs": []
    },
    {
      "cell_type": "code",
      "source": [
        "remove_urls(text)"
      ],
      "metadata": {
        "colab": {
          "base_uri": "https://localhost:8080/",
          "height": 35
        },
        "id": "sZUE24hYkQ7z",
        "outputId": "5f2283a0-b733-4fb5-e409-fe0d11f5dd70"
      },
      "execution_count": null,
      "outputs": [
        {
          "output_type": "execute_result",
          "data": {
            "text/plain": [
              "'hello please visit  to view my projects you can google me as well  '"
            ],
            "application/vnd.google.colaboratory.intrinsic+json": {
              "type": "string"
            }
          },
          "metadata": {},
          "execution_count": 16
        }
      ]
    },
    {
      "cell_type": "code",
      "source": [
        "df['review'].apply(remove_urls).head()"
      ],
      "metadata": {
        "colab": {
          "base_uri": "https://localhost:8080/",
          "height": 241
        },
        "id": "yCtIJZE2rl8R",
        "outputId": "41074bbd-7ed4-4199-a29f-2239895092b4"
      },
      "execution_count": null,
      "outputs": [
        {
          "output_type": "execute_result",
          "data": {
            "text/plain": [
              "0    one of the other reviewers has mentioned that ...\n",
              "1    a wonderful little production. the filming tec...\n",
              "2    i thought this was a wonderful way to spend ti...\n",
              "3    basically there's a family where a little boy ...\n",
              "4    petter mattei's \"love in the time of money\" is...\n",
              "Name: review, dtype: object"
            ],
            "text/html": [
              "<div>\n",
              "<style scoped>\n",
              "    .dataframe tbody tr th:only-of-type {\n",
              "        vertical-align: middle;\n",
              "    }\n",
              "\n",
              "    .dataframe tbody tr th {\n",
              "        vertical-align: top;\n",
              "    }\n",
              "\n",
              "    .dataframe thead th {\n",
              "        text-align: right;\n",
              "    }\n",
              "</style>\n",
              "<table border=\"1\" class=\"dataframe\">\n",
              "  <thead>\n",
              "    <tr style=\"text-align: right;\">\n",
              "      <th></th>\n",
              "      <th>review</th>\n",
              "    </tr>\n",
              "  </thead>\n",
              "  <tbody>\n",
              "    <tr>\n",
              "      <th>0</th>\n",
              "      <td>one of the other reviewers has mentioned that ...</td>\n",
              "    </tr>\n",
              "    <tr>\n",
              "      <th>1</th>\n",
              "      <td>a wonderful little production. the filming tec...</td>\n",
              "    </tr>\n",
              "    <tr>\n",
              "      <th>2</th>\n",
              "      <td>i thought this was a wonderful way to spend ti...</td>\n",
              "    </tr>\n",
              "    <tr>\n",
              "      <th>3</th>\n",
              "      <td>basically there's a family where a little boy ...</td>\n",
              "    </tr>\n",
              "    <tr>\n",
              "      <th>4</th>\n",
              "      <td>petter mattei's \"love in the time of money\" is...</td>\n",
              "    </tr>\n",
              "  </tbody>\n",
              "</table>\n",
              "</div><br><label><b>dtype:</b> object</label>"
            ]
          },
          "metadata": {},
          "execution_count": 17
        }
      ]
    },
    {
      "cell_type": "code",
      "source": [
        "df['review'] = df['review'].apply(remove_urls)"
      ],
      "metadata": {
        "id": "A5fZOnvPruuh"
      },
      "execution_count": null,
      "outputs": []
    },
    {
      "cell_type": "markdown",
      "source": [
        "###Remove punctuations"
      ],
      "metadata": {
        "id": "NAb-UGevkWa2"
      }
    },
    {
      "cell_type": "code",
      "source": [
        "exclude = string.punctuation\n",
        "print(exclude)#all punctuations from python"
      ],
      "metadata": {
        "colab": {
          "base_uri": "https://localhost:8080/"
        },
        "id": "-xDId8E-kvym",
        "outputId": "e7b6defc-7a9c-4e45-bbe0-e79208be46f3"
      },
      "execution_count": null,
      "outputs": [
        {
          "output_type": "stream",
          "name": "stdout",
          "text": [
            "!\"#$%&'()*+,-./:;<=>?@[\\]^_`{|}~\n"
          ]
        }
      ]
    },
    {
      "cell_type": "code",
      "source": [
        "def self_punc_removal(text):\n",
        "  for punc in exclude:\n",
        "    text = text.replace(punc,'')\n",
        "  return text"
      ],
      "metadata": {
        "id": "J1-RFeqwkT86"
      },
      "execution_count": null,
      "outputs": []
    },
    {
      "cell_type": "code",
      "source": [
        "text = 'Hello! how are you doing? '\n",
        "start = time.time()\n",
        "print(self_punc_removal(text))\n",
        "self_time = time.time() - start"
      ],
      "metadata": {
        "colab": {
          "base_uri": "https://localhost:8080/"
        },
        "id": "f9ZczP11lTiv",
        "outputId": "6a4764a8-b86f-4f64-b34e-fc5d403bba55"
      },
      "execution_count": null,
      "outputs": [
        {
          "output_type": "stream",
          "name": "stdout",
          "text": [
            "Hello how are you doing \n"
          ]
        }
      ]
    },
    {
      "cell_type": "code",
      "source": [
        "def auto_remove_punc(text):\n",
        "  return text.translate(str.maketrans('','',exclude))"
      ],
      "metadata": {
        "id": "tJJ_COGRmFrv"
      },
      "execution_count": null,
      "outputs": []
    },
    {
      "cell_type": "code",
      "source": [
        "start = time.time()\n",
        "print(auto_remove_punc(text))\n",
        "auto_time = time.time() - start"
      ],
      "metadata": {
        "colab": {
          "base_uri": "https://localhost:8080/"
        },
        "id": "9-eGSdNKmT2i",
        "outputId": "146765bb-abb0-499e-d0ee-3aaa178cf6c3"
      },
      "execution_count": null,
      "outputs": [
        {
          "output_type": "stream",
          "name": "stdout",
          "text": [
            "Hello how are you doing \n"
          ]
        }
      ]
    },
    {
      "cell_type": "code",
      "source": [
        "self_time/auto_time##self method v/s auto method time taken comparision"
      ],
      "metadata": {
        "colab": {
          "base_uri": "https://localhost:8080/"
        },
        "id": "gjtMew_SmiJP",
        "outputId": "e4c5d323-09c4-42bb-ac9a-74432f87fa3b"
      },
      "execution_count": null,
      "outputs": [
        {
          "output_type": "execute_result",
          "data": {
            "text/plain": [
              "4.768025078369906"
            ]
          },
          "metadata": {},
          "execution_count": 52
        }
      ]
    },
    {
      "cell_type": "code",
      "source": [
        "df['review'].apply(auto_remove_punc).head()"
      ],
      "metadata": {
        "colab": {
          "base_uri": "https://localhost:8080/",
          "height": 241
        },
        "id": "1TsJntugr1pP",
        "outputId": "ce7c08c5-bd2c-43aa-8f5e-bb4c04ede630"
      },
      "execution_count": null,
      "outputs": [
        {
          "output_type": "execute_result",
          "data": {
            "text/plain": [
              "0    one of the other reviewers has mentioned that ...\n",
              "1    a wonderful little production the filming tech...\n",
              "2    i thought this was a wonderful way to spend ti...\n",
              "3    basically theres a family where a little boy j...\n",
              "4    petter matteis love in the time of money is a ...\n",
              "Name: review, dtype: object"
            ],
            "text/html": [
              "<div>\n",
              "<style scoped>\n",
              "    .dataframe tbody tr th:only-of-type {\n",
              "        vertical-align: middle;\n",
              "    }\n",
              "\n",
              "    .dataframe tbody tr th {\n",
              "        vertical-align: top;\n",
              "    }\n",
              "\n",
              "    .dataframe thead th {\n",
              "        text-align: right;\n",
              "    }\n",
              "</style>\n",
              "<table border=\"1\" class=\"dataframe\">\n",
              "  <thead>\n",
              "    <tr style=\"text-align: right;\">\n",
              "      <th></th>\n",
              "      <th>review</th>\n",
              "    </tr>\n",
              "  </thead>\n",
              "  <tbody>\n",
              "    <tr>\n",
              "      <th>0</th>\n",
              "      <td>one of the other reviewers has mentioned that ...</td>\n",
              "    </tr>\n",
              "    <tr>\n",
              "      <th>1</th>\n",
              "      <td>a wonderful little production the filming tech...</td>\n",
              "    </tr>\n",
              "    <tr>\n",
              "      <th>2</th>\n",
              "      <td>i thought this was a wonderful way to spend ti...</td>\n",
              "    </tr>\n",
              "    <tr>\n",
              "      <th>3</th>\n",
              "      <td>basically theres a family where a little boy j...</td>\n",
              "    </tr>\n",
              "    <tr>\n",
              "      <th>4</th>\n",
              "      <td>petter matteis love in the time of money is a ...</td>\n",
              "    </tr>\n",
              "  </tbody>\n",
              "</table>\n",
              "</div><br><label><b>dtype:</b> object</label>"
            ]
          },
          "metadata": {},
          "execution_count": 53
        }
      ]
    },
    {
      "cell_type": "code",
      "source": [
        "df['review'] = df['review'].apply(auto_remove_punc)"
      ],
      "metadata": {
        "id": "9LYe5M-ur_-a"
      },
      "execution_count": null,
      "outputs": []
    },
    {
      "cell_type": "markdown",
      "source": [
        "###Chatwords conversion"
      ],
      "metadata": {
        "id": "U3gxk5hUmw5X"
      }
    },
    {
      "cell_type": "code",
      "source": [
        "chat_words  = {\n",
        "    \"AFAIK\": \"As Far As I Know\",\n",
        "    \"AFK\": \"Away From Keyboard\",\n",
        "    \"ASAP\": \"As Soon As Possible\",\n",
        "    \"ATK\": \"At The Keyboard\",\n",
        "    \"ATM\": \"At The Moment\",\n",
        "    \"A3\": \"Anytime, Anywhere, Anyplace\",\n",
        "    \"BAK\": \"Back At Keyboard\",\n",
        "    \"BBL\": \"Be Back Later\",\n",
        "    \"BBS\": \"Be Back Soon\",\n",
        "    \"BFN\": \"Bye For Now\",\n",
        "    \"B4N\": \"Bye For Now\",\n",
        "    \"BRB\": \"Be Right Back\",\n",
        "    \"BRT\": \"Be Right There\",\n",
        "    \"BTW\": \"By The Way\",\n",
        "    \"B4\": \"Before\",\n",
        "    \"CU\": \"See You\",\n",
        "    \"CUL8R\": \"See You Later\",\n",
        "    \"CYA\": \"See You\",\n",
        "    \"FAQ\": \"Frequently Asked Questions\",\n",
        "    \"FC\": \"Fingers Crossed\",\n",
        "    \"FWIW\": \"For What It's Worth\",\n",
        "    \"FYI\": \"For Your Information\",\n",
        "    \"GAL\": \"Get A Life\",\n",
        "    \"GG\": \"Good Game\",\n",
        "    \"GN\": \"Good Night\",\n",
        "    \"GMTA\": \"Great Minds Think Alike\",\n",
        "    \"GR8\": \"Great!\",\n",
        "    \"G9\": \"Genius\",\n",
        "    \"IC\": \"I See\",\n",
        "    \"ICQ\": \"I Seek you (also a chat program)\",\n",
        "    \"ILU\": \"I Love You\",\n",
        "    \"IMHO\": \"In My Honest/Humble Opinion\",\n",
        "    \"IMO\": \"In My Opinion\",\n",
        "    \"IOW\": \"In Other Words\",\n",
        "    \"IRL\": \"In Real Life\",\n",
        "    \"KISS\": \"Keep It Simple, Stupid\",\n",
        "    \"LDR\": \"Long Distance Relationship\",\n",
        "    \"LMAO\": \"Laugh My A.. Off\",\n",
        "    \"LOL\": \"Laughing Out Loud\",\n",
        "    \"LTNS\": \"Long Time No See\",\n",
        "    \"L8R\": \"Later\",\n",
        "    \"MTE\": \"My Thoughts Exactly\",\n",
        "    \"M8\": \"Mate\",\n",
        "    \"NRN\": \"No Reply Necessary\",\n",
        "    \"OIC\": \"Oh I See\",\n",
        "    \"PITA\": \"Pain In The A..\",\n",
        "    \"PRT\": \"Party\",\n",
        "    \"PRW\": \"Parents Are Watching\",\n",
        "    \"QPSA?\": \"Que Pasa?\",\n",
        "    \"ROFL\": \"Rolling On The Floor Laughing\",\n",
        "    \"ROFLOL\": \"Rolling On The Floor Laughing Out Loud\",\n",
        "    \"ROTFLMAO\": \"Rolling On The Floor Laughing My A.. Off\",\n",
        "    \"SK8\": \"Skate\",\n",
        "    \"STATS\": \"Your sex and age\",\n",
        "    \"ASL\": \"Age, Sex, Location\",\n",
        "    \"THX\": \"Thank You\",\n",
        "    \"TTFN\": \"Ta-Ta For Now!\",\n",
        "    \"TTYL\": \"Talk To You Later\",\n",
        "    \"U\": \"You\",\n",
        "    \"U2\": \"You Too\",\n",
        "    \"U4E\": \"Yours For Ever\",\n",
        "    \"WB\": \"Welcome Back\",\n",
        "    \"WTF\": \"What The F...\",\n",
        "    \"WTG\": \"Way To Go!\",\n",
        "    \"WUF\": \"Where Are You From?\",\n",
        "    \"W8\": \"Wait...\",\n",
        "    \"7K\": \"Sick:-D Laugher\",\n",
        "    \"TFW\": \"That feeling when\",\n",
        "    \"MFW\": \"My face when\",\n",
        "    \"MRW\": \"My reaction when\",\n",
        "    \"IFYP\": \"I feel your pain\",\n",
        "    \"TNTL\": \"Trying not to laugh\",\n",
        "    \"JK\": \"Just kidding\",\n",
        "    \"IDC\": \"I don’t care\",\n",
        "    \"ILY\": \"I love you\",\n",
        "    \"IMU\": \"I miss you\",\n",
        "    \"ADIH\": \"Another day in hell\",\n",
        "    \"ZZZ\": \"Sleeping, bored, tired\",\n",
        "    \"WYWH\": \"Wish you were here\",\n",
        "    \"TIME\": \"Tears in my eyes\",\n",
        "    \"BAE\": \"Before anyone else\",\n",
        "    \"FIMH\": \"Forever in my heart\",\n",
        "    \"BSAAW\": \"Big smile and a wink\",\n",
        "    \"BWL\": \"Bursting with laughter\",\n",
        "    \"BFF\": \"Best friends forever\",\n",
        "    \"CSL\": \"Can’t stop laughing\"\n",
        "}\n",
        "# from github https://github.com/rishabhverma17/sms_slang_translator/blob/master/slang.txt"
      ],
      "metadata": {
        "id": "yA1eVDH4mmd0"
      },
      "execution_count": null,
      "outputs": []
    },
    {
      "cell_type": "code",
      "source": [
        "def chat_words_conv(text):\n",
        "  transformed = []\n",
        "  for w in text.split():\n",
        "    if w.upper() in chat_words:\n",
        "      transformed.append(chat_words[w.upper()])\n",
        "    else:\n",
        "      transformed.append(w)\n",
        "  return ' '.join(transformed)"
      ],
      "metadata": {
        "id": "diEhs7uzotII"
      },
      "execution_count": null,
      "outputs": []
    },
    {
      "cell_type": "code",
      "source": [
        "chat_words_conv('FYI I used to live in jaipur')"
      ],
      "metadata": {
        "colab": {
          "base_uri": "https://localhost:8080/",
          "height": 35
        },
        "id": "hDq8v1xZpTm7",
        "outputId": "508af80d-158b-481d-d238-5891e1c11c44"
      },
      "execution_count": null,
      "outputs": [
        {
          "output_type": "execute_result",
          "data": {
            "text/plain": [
              "'For Your Information I used to live in jaipur'"
            ],
            "application/vnd.google.colaboratory.intrinsic+json": {
              "type": "string"
            }
          },
          "metadata": {},
          "execution_count": 57
        }
      ]
    },
    {
      "cell_type": "code",
      "source": [
        "df['review'] = df['review'].apply(chat_words_conv)"
      ],
      "metadata": {
        "id": "FH-rbz_5sRGk"
      },
      "execution_count": null,
      "outputs": []
    },
    {
      "cell_type": "markdown",
      "source": [
        "###Spelling error handling"
      ],
      "metadata": {
        "id": "s1-_gsuOpnFv"
      }
    },
    {
      "cell_type": "code",
      "source": [
        "from textblob import TextBlob"
      ],
      "metadata": {
        "id": "-lEb2yh4prgX"
      },
      "execution_count": null,
      "outputs": []
    },
    {
      "cell_type": "code",
      "source": [
        "incorrect_text = 'helloe my firend how do yu do?'\n",
        "textblb = TextBlob(incorrect_text)\n",
        "textblb.correct().string"
      ],
      "metadata": {
        "colab": {
          "base_uri": "https://localhost:8080/",
          "height": 35
        },
        "id": "e72IF1RhrgsL",
        "outputId": "c2e58556-3d0b-4dd5-89fd-bd7b695c9a40"
      },
      "execution_count": null,
      "outputs": [
        {
          "output_type": "execute_result",
          "data": {
            "text/plain": [
              "'hello my friend how do you do?'"
            ],
            "application/vnd.google.colaboratory.intrinsic+json": {
              "type": "string"
            }
          },
          "metadata": {},
          "execution_count": 60
        }
      ]
    },
    {
      "cell_type": "code",
      "source": [
        "df['review'] = df['review'].apply(lambda x : str(TextBlob(x).correct()))## notoriously slow as because it checks each word's spelling using a naive probabilistic model."
      ],
      "metadata": {
        "id": "DLVKV3HPsval"
      },
      "execution_count": null,
      "outputs": []
    },
    {
      "cell_type": "code",
      "source": [
        "from spellchecker import SpellChecker\n",
        "\n",
        "spell = SpellChecker()\n",
        "\n",
        "def fast_correct(text):\n",
        "    words = text.split()\n",
        "    corrected = [spell.correction(w) or w for w in words]\n",
        "    return ' '.join(corrected)\n"
      ],
      "metadata": {
        "id": "7d9qsA2wtW_d"
      },
      "execution_count": null,
      "outputs": []
    },
    {
      "cell_type": "code",
      "source": [
        "df['review'] = df['review'].apply(fast_correct)"
      ],
      "metadata": {
        "id": "NxWX7KItvHYz"
      },
      "execution_count": null,
      "outputs": []
    },
    {
      "cell_type": "markdown",
      "source": [
        "###Stopwords removal"
      ],
      "metadata": {
        "id": "OysKVGXk1PA8"
      }
    },
    {
      "cell_type": "code",
      "source": [
        "from nltk.corpus import stopwords"
      ],
      "metadata": {
        "id": "SjAAJN0XzEss"
      },
      "execution_count": null,
      "outputs": []
    },
    {
      "cell_type": "code",
      "source": [
        "nltk.download('stopwords')"
      ],
      "metadata": {
        "colab": {
          "base_uri": "https://localhost:8080/"
        },
        "id": "-oxYURXWzzpP",
        "outputId": "d92ec21b-94d5-4815-8f14-a2e89b4c9de4"
      },
      "execution_count": null,
      "outputs": [
        {
          "output_type": "stream",
          "name": "stderr",
          "text": [
            "[nltk_data] Downloading package stopwords to /root/nltk_data...\n",
            "[nltk_data]   Unzipping corpora/stopwords.zip.\n"
          ]
        },
        {
          "output_type": "execute_result",
          "data": {
            "text/plain": [
              "True"
            ]
          },
          "metadata": {},
          "execution_count": 65
        }
      ]
    },
    {
      "cell_type": "code",
      "source": [
        "eng_stop_words = set(stopwords.words('english'))"
      ],
      "metadata": {
        "id": "jESWTrCBz33O"
      },
      "execution_count": null,
      "outputs": []
    },
    {
      "cell_type": "code",
      "source": [
        "def remove_stopwords(text):\n",
        "  transformed = []\n",
        "  for w in text.split():\n",
        "    if w not in eng_stop_words:\n",
        "      transformed.append(w)\n",
        "  return ' '.join(transformed)"
      ],
      "metadata": {
        "id": "edwCktuJ0ULo"
      },
      "execution_count": null,
      "outputs": []
    },
    {
      "cell_type": "code",
      "source": [
        "df['review'][0]"
      ],
      "metadata": {
        "colab": {
          "base_uri": "https://localhost:8080/",
          "height": 105
        },
        "id": "BPfT78a10_7L",
        "outputId": "307c9489-760e-4593-d6ef-83eef11f531e"
      },
      "execution_count": null,
      "outputs": [
        {
          "output_type": "execute_result",
          "data": {
            "text/plain": [
              "'one of the other reviewers has mentioned that after watching just 1 oz episode youll be hooked they are right as this is exactly what happened with methe first thing that struck me about oz was its brutality and unflinching scenes of violence which set in right from the word go trust me this is not a show for the faint hearted or timid this show pulls no punches with regards to drugs sex or violence its is hardcore in the classic use of the wordit is called oz as that is the nickname given to the oswald maximum security state penitentary it focuses mainly on emerald city an experimental section of the prison where all the cells have glass fronts and face inwards so privacy is not high on the agenda em city is home to manyaryans muslims gangstas latinos christians italians irish and moreso scuffles death stares dodgy dealings and shady agreements are never far awayi would say the main appeal of the show is due to the fact that it goes where other shows wouldnt dare forget pretty pictures painted for mainstream audiences forget charm forget romanceoz doesnt mess around the first episode i ever saw struck me as so nasty it was surreal i couldnt say i was ready for it but as i watched more i developed a taste for oz and got accustomed to the high levels of graphic violence not just violence but injustice crooked guards wholl be sold out for a nickel inmates wholl kill on order and get away with it well mannered middle class inmates being turned into prison bitches due to their lack of street skills or prison experience watching oz you may become comfortable with what is uncomfortable viewingthats if you can get in touch with your darker side'"
            ],
            "application/vnd.google.colaboratory.intrinsic+json": {
              "type": "string"
            }
          },
          "metadata": {},
          "execution_count": 68
        }
      ]
    },
    {
      "cell_type": "code",
      "source": [
        "remove_stopwords(df['review'][0])"
      ],
      "metadata": {
        "colab": {
          "base_uri": "https://localhost:8080/",
          "height": 105
        },
        "id": "u6q4SyJZ1I0G",
        "outputId": "f61cd792-e80c-4f6c-8f5f-c85582bd46c8"
      },
      "execution_count": null,
      "outputs": [
        {
          "output_type": "execute_result",
          "data": {
            "text/plain": [
              "'one reviewers mentioned watching 1 oz episode youll hooked right exactly happened methe first thing struck oz brutality unflinching scenes violence set right word go trust show faint hearted timid show pulls punches regards drugs sex violence hardcore classic use wordit called oz nickname given oswald maximum security state penitentary focuses mainly emerald city experimental section prison cells glass fronts face inwards privacy high agenda em city home manyaryans muslims gangstas latinos christians italians irish moreso scuffles death stares dodgy dealings shady agreements never far awayi would say main appeal show due fact goes shows wouldnt dare forget pretty pictures painted mainstream audiences forget charm forget romanceoz doesnt mess around first episode ever saw struck nasty surreal couldnt say ready watched developed taste oz got accustomed high levels graphic violence violence injustice crooked guards wholl sold nickel inmates wholl kill order get away well mannered middle class inmates turned prison bitches due lack street skills prison experience watching oz may become comfortable uncomfortable viewingthats get touch darker side'"
            ],
            "application/vnd.google.colaboratory.intrinsic+json": {
              "type": "string"
            }
          },
          "metadata": {},
          "execution_count": 69
        }
      ]
    },
    {
      "cell_type": "code",
      "source": [
        "df['review'] = df['review'].apply(remove_stopwords)"
      ],
      "metadata": {
        "id": "6gx1kxyF1UzB"
      },
      "execution_count": null,
      "outputs": []
    },
    {
      "cell_type": "markdown",
      "source": [
        "###Emoji handling"
      ],
      "metadata": {
        "id": "qLE0SPg82zWL"
      }
    },
    {
      "cell_type": "markdown",
      "source": [
        "remove the emoji using regex"
      ],
      "metadata": {
        "id": "tPwf5u_g2_Iz"
      }
    },
    {
      "cell_type": "code",
      "source": [
        "def remove_emoji_regex(text):\n",
        "    emoji_regex_pattern = re.compile(\"[\"\n",
        "                           u\"\\U0001F600-\\U0001F64F\"  # emoticons\n",
        "                           u\"\\U0001F300-\\U0001F5FF\"  # symbols & pictographs\n",
        "                           u\"\\U0001F680-\\U0001F6FF\"  # transport & map symbols\n",
        "                           u\"\\U0001F1E0-\\U0001F1FF\"  # flags (iOS)\n",
        "                           u\"\\U00002702-\\U000027B0\"\n",
        "                           u\"\\U000024C2-\\U0001F251\"\n",
        "                           \"]+\", flags=re.UNICODE)\n",
        "    return emoji_regex_pattern.sub(r'', text)"
      ],
      "metadata": {
        "id": "FC7U4kOn2Yyh"
      },
      "execution_count": null,
      "outputs": []
    },
    {
      "cell_type": "code",
      "source": [
        "remove_emoji_regex('That feeling when the code finally works 😎🔥💻 #DevLife')"
      ],
      "metadata": {
        "colab": {
          "base_uri": "https://localhost:8080/",
          "height": 35
        },
        "id": "0oi6suJN3K4W",
        "outputId": "322a4655-4f97-426d-d5b1-2f4162b907fc"
      },
      "execution_count": null,
      "outputs": [
        {
          "output_type": "execute_result",
          "data": {
            "text/plain": [
              "'That feeling when the code finally works  #DevLife'"
            ],
            "application/vnd.google.colaboratory.intrinsic+json": {
              "type": "string"
            }
          },
          "metadata": {},
          "execution_count": 72
        }
      ]
    },
    {
      "cell_type": "code",
      "source": [
        "remove_emoji_regex('Debugged all errors 💪✅')"
      ],
      "metadata": {
        "colab": {
          "base_uri": "https://localhost:8080/",
          "height": 35
        },
        "id": "AUz0TCUj3cgL",
        "outputId": "a0da1ca4-80e4-43ec-978d-0fd5261cfbcc"
      },
      "execution_count": null,
      "outputs": [
        {
          "output_type": "execute_result",
          "data": {
            "text/plain": [
              "'Debugged all errors '"
            ],
            "application/vnd.google.colaboratory.intrinsic+json": {
              "type": "string"
            }
          },
          "metadata": {},
          "execution_count": 73
        }
      ]
    },
    {
      "cell_type": "markdown",
      "source": [
        "we can also demojize which is to replace emoji with appropriate text"
      ],
      "metadata": {
        "id": "PopW8GMb39lS"
      }
    },
    {
      "cell_type": "code",
      "source": [
        "!pip install emoji"
      ],
      "metadata": {
        "colab": {
          "base_uri": "https://localhost:8080/"
        },
        "id": "mI3GURv-3iMN",
        "outputId": "fe1cc674-770c-4af2-96c1-dd6f6153c75a"
      },
      "execution_count": null,
      "outputs": [
        {
          "output_type": "stream",
          "name": "stdout",
          "text": [
            "Collecting emoji\n",
            "  Downloading emoji-2.14.1-py3-none-any.whl.metadata (5.7 kB)\n",
            "Downloading emoji-2.14.1-py3-none-any.whl (590 kB)\n",
            "\u001b[?25l   \u001b[90m━━━━━━━━━━━━━━━━━━━━━━━━━━━━━━━━━━━━━━━━\u001b[0m \u001b[32m0.0/590.6 kB\u001b[0m \u001b[31m?\u001b[0m eta \u001b[36m-:--:--\u001b[0m\r\u001b[2K   \u001b[91m━━━━━━\u001b[0m\u001b[90m╺\u001b[0m\u001b[90m━━━━━━━━━━━━━━━━━━━━━━━━━━━━━━━━━\u001b[0m \u001b[32m92.2/590.6 kB\u001b[0m \u001b[31m3.2 MB/s\u001b[0m eta \u001b[36m0:00:01\u001b[0m\r\u001b[2K   \u001b[91m━━━━━━━━━━━━━━━━━━━━━━━━━━━━━━━━━━━━━━━\u001b[0m\u001b[91m╸\u001b[0m \u001b[32m583.7/590.6 kB\u001b[0m \u001b[31m8.7 MB/s\u001b[0m eta \u001b[36m0:00:01\u001b[0m\r\u001b[2K   \u001b[90m━━━━━━━━━━━━━━━━━━━━━━━━━━━━━━━━━━━━━━━━\u001b[0m \u001b[32m590.6/590.6 kB\u001b[0m \u001b[31m7.4 MB/s\u001b[0m eta \u001b[36m0:00:00\u001b[0m\n",
            "\u001b[?25hInstalling collected packages: emoji\n",
            "Successfully installed emoji-2.14.1\n"
          ]
        }
      ]
    },
    {
      "cell_type": "code",
      "source": [
        "import emoji"
      ],
      "metadata": {
        "id": "ihfea5iW4Rxs"
      },
      "execution_count": null,
      "outputs": []
    },
    {
      "cell_type": "code",
      "source": [
        "emoji.demojize('That feeling when the code finally works 😎🔥💻 #DevLife')"
      ],
      "metadata": {
        "colab": {
          "base_uri": "https://localhost:8080/",
          "height": 35
        },
        "id": "AUQA8SWT4b3Q",
        "outputId": "c6316839-7070-40b7-e962-28c7afdf55f5"
      },
      "execution_count": null,
      "outputs": [
        {
          "output_type": "execute_result",
          "data": {
            "text/plain": [
              "'That feeling when the code finally works :smiling_face_with_sunglasses::fire::laptop: #DevLife'"
            ],
            "application/vnd.google.colaboratory.intrinsic+json": {
              "type": "string"
            }
          },
          "metadata": {},
          "execution_count": 76
        }
      ]
    },
    {
      "cell_type": "markdown",
      "source": [
        "###Tokenization"
      ],
      "metadata": {
        "id": "kQaR6hEx4l3-"
      }
    },
    {
      "cell_type": "markdown",
      "source": [
        "2 libraries offer optimized ways to tokenize text\n",
        "1. NLTK\n",
        "2. Spacy"
      ],
      "metadata": {
        "id": "tYtcS-567iWo"
      }
    },
    {
      "cell_type": "code",
      "source": [
        "from nltk.tokenize import word_tokenize,sent_tokenize\n",
        "nltk.download('punkt_tab')\n",
        "nltk.download('wordnet')"
      ],
      "metadata": {
        "colab": {
          "base_uri": "https://localhost:8080/"
        },
        "id": "Kk-A4car4zLz",
        "outputId": "63a09bca-fa11-4b01-de47-7646d3d68732"
      },
      "execution_count": null,
      "outputs": [
        {
          "output_type": "stream",
          "name": "stderr",
          "text": [
            "[nltk_data] Downloading package punkt_tab to /root/nltk_data...\n",
            "[nltk_data]   Package punkt_tab is already up-to-date!\n",
            "[nltk_data] Downloading package wordnet to /root/nltk_data...\n"
          ]
        },
        {
          "output_type": "execute_result",
          "data": {
            "text/plain": [
              "True"
            ]
          },
          "metadata": {},
          "execution_count": 89
        }
      ]
    },
    {
      "cell_type": "code",
      "source": [
        "word_tokenize(df['review'][0])"
      ],
      "metadata": {
        "colab": {
          "base_uri": "https://localhost:8080/"
        },
        "id": "DAcNVpLu7w4Z",
        "outputId": "e22b41d9-3532-4ca9-9215-991ccb7223e3"
      },
      "execution_count": null,
      "outputs": [
        {
          "output_type": "execute_result",
          "data": {
            "text/plain": [
              "['one',\n",
              " 'reviewers',\n",
              " 'mentioned',\n",
              " 'watching',\n",
              " '1',\n",
              " 'oz',\n",
              " 'episode',\n",
              " 'youll',\n",
              " 'hooked',\n",
              " 'right',\n",
              " 'exactly',\n",
              " 'happened',\n",
              " 'methe',\n",
              " 'first',\n",
              " 'thing',\n",
              " 'struck',\n",
              " 'oz',\n",
              " 'brutality',\n",
              " 'unflinching',\n",
              " 'scenes',\n",
              " 'violence',\n",
              " 'set',\n",
              " 'right',\n",
              " 'word',\n",
              " 'go',\n",
              " 'trust',\n",
              " 'show',\n",
              " 'faint',\n",
              " 'hearted',\n",
              " 'timid',\n",
              " 'show',\n",
              " 'pulls',\n",
              " 'punches',\n",
              " 'regards',\n",
              " 'drugs',\n",
              " 'sex',\n",
              " 'violence',\n",
              " 'hardcore',\n",
              " 'classic',\n",
              " 'use',\n",
              " 'wordit',\n",
              " 'called',\n",
              " 'oz',\n",
              " 'nickname',\n",
              " 'given',\n",
              " 'oswald',\n",
              " 'maximum',\n",
              " 'security',\n",
              " 'state',\n",
              " 'penitentary',\n",
              " 'focuses',\n",
              " 'mainly',\n",
              " 'emerald',\n",
              " 'city',\n",
              " 'experimental',\n",
              " 'section',\n",
              " 'prison',\n",
              " 'cells',\n",
              " 'glass',\n",
              " 'fronts',\n",
              " 'face',\n",
              " 'inwards',\n",
              " 'privacy',\n",
              " 'high',\n",
              " 'agenda',\n",
              " 'em',\n",
              " 'city',\n",
              " 'home',\n",
              " 'manyaryans',\n",
              " 'muslims',\n",
              " 'gangstas',\n",
              " 'latinos',\n",
              " 'christians',\n",
              " 'italians',\n",
              " 'irish',\n",
              " 'moreso',\n",
              " 'scuffles',\n",
              " 'death',\n",
              " 'stares',\n",
              " 'dodgy',\n",
              " 'dealings',\n",
              " 'shady',\n",
              " 'agreements',\n",
              " 'never',\n",
              " 'far',\n",
              " 'awayi',\n",
              " 'would',\n",
              " 'say',\n",
              " 'main',\n",
              " 'appeal',\n",
              " 'show',\n",
              " 'due',\n",
              " 'fact',\n",
              " 'goes',\n",
              " 'shows',\n",
              " 'wouldnt',\n",
              " 'dare',\n",
              " 'forget',\n",
              " 'pretty',\n",
              " 'pictures',\n",
              " 'painted',\n",
              " 'mainstream',\n",
              " 'audiences',\n",
              " 'forget',\n",
              " 'charm',\n",
              " 'forget',\n",
              " 'romanceoz',\n",
              " 'doesnt',\n",
              " 'mess',\n",
              " 'around',\n",
              " 'first',\n",
              " 'episode',\n",
              " 'ever',\n",
              " 'saw',\n",
              " 'struck',\n",
              " 'nasty',\n",
              " 'surreal',\n",
              " 'couldnt',\n",
              " 'say',\n",
              " 'ready',\n",
              " 'watched',\n",
              " 'developed',\n",
              " 'taste',\n",
              " 'oz',\n",
              " 'got',\n",
              " 'accustomed',\n",
              " 'high',\n",
              " 'levels',\n",
              " 'graphic',\n",
              " 'violence',\n",
              " 'violence',\n",
              " 'injustice',\n",
              " 'crooked',\n",
              " 'guards',\n",
              " 'wholl',\n",
              " 'sold',\n",
              " 'nickel',\n",
              " 'inmates',\n",
              " 'wholl',\n",
              " 'kill',\n",
              " 'order',\n",
              " 'get',\n",
              " 'away',\n",
              " 'well',\n",
              " 'mannered',\n",
              " 'middle',\n",
              " 'class',\n",
              " 'inmates',\n",
              " 'turned',\n",
              " 'prison',\n",
              " 'bitches',\n",
              " 'due',\n",
              " 'lack',\n",
              " 'street',\n",
              " 'skills',\n",
              " 'prison',\n",
              " 'experience',\n",
              " 'watching',\n",
              " 'oz',\n",
              " 'may',\n",
              " 'become',\n",
              " 'comfortable',\n",
              " 'uncomfortable',\n",
              " 'viewingthats',\n",
              " 'get',\n",
              " 'touch',\n",
              " 'darker',\n",
              " 'side']"
            ]
          },
          "metadata": {},
          "execution_count": 78
        }
      ]
    },
    {
      "cell_type": "code",
      "source": [
        "text = \"This is sentence 1. This is sentence 2. This is sentence 3.\"\n",
        "sent_tokenize(text)"
      ],
      "metadata": {
        "colab": {
          "base_uri": "https://localhost:8080/"
        },
        "id": "YieaBkCa74AQ",
        "outputId": "5d366c64-afa3-492c-9f06-1dbe1a8302a2"
      },
      "execution_count": null,
      "outputs": [
        {
          "output_type": "execute_result",
          "data": {
            "text/plain": [
              "['This is sentence 1.', 'This is sentence 2.', 'This is sentence 3.']"
            ]
          },
          "metadata": {},
          "execution_count": 79
        }
      ]
    },
    {
      "cell_type": "markdown",
      "source": [
        "![image.png](data:image/png;base64,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)"
      ],
      "metadata": {
        "id": "niah3eDe82AF"
      }
    },
    {
      "cell_type": "code",
      "source": [
        "import spacy\n",
        "nlp = spacy.load('en_core_web_sm')"
      ],
      "metadata": {
        "id": "1fGymxvk8C62"
      },
      "execution_count": null,
      "outputs": []
    },
    {
      "cell_type": "code",
      "source": [
        "for i in nlp('I have a Ph.D in A.I'):\n",
        "  print(i)"
      ],
      "metadata": {
        "colab": {
          "base_uri": "https://localhost:8080/"
        },
        "id": "bZbTCmhR8_c_",
        "outputId": "f86c102a-ba8a-4786-d03a-5fc7c7973b1e"
      },
      "execution_count": null,
      "outputs": [
        {
          "output_type": "stream",
          "name": "stdout",
          "text": [
            "I\n",
            "have\n",
            "a\n",
            "Ph\n",
            ".\n",
            "D\n",
            "in\n",
            "A.I\n"
          ]
        }
      ]
    },
    {
      "cell_type": "markdown",
      "source": [
        "###Stemming"
      ],
      "metadata": {
        "id": "_96ksccvbERz"
      }
    },
    {
      "cell_type": "code",
      "source": [
        "from nltk.stem.porter import PorterStemmer"
      ],
      "metadata": {
        "id": "yPXzvd3n9KbD"
      },
      "execution_count": null,
      "outputs": []
    },
    {
      "cell_type": "code",
      "source": [
        "ps = PorterStemmer()\n",
        "def stems(text):\n",
        "  return ' '.join([ps.stem(word) for word in text.split()])"
      ],
      "metadata": {
        "id": "zUYammiRYcuS"
      },
      "execution_count": null,
      "outputs": []
    },
    {
      "cell_type": "code",
      "source": [
        "example = 'run running hunt hunted hunting'\n",
        "stems(example)"
      ],
      "metadata": {
        "colab": {
          "base_uri": "https://localhost:8080/",
          "height": 35
        },
        "id": "A8d3cVqaau2y",
        "outputId": "80adc187-be55-4152-b64c-d43509ee8446"
      },
      "execution_count": null,
      "outputs": [
        {
          "output_type": "execute_result",
          "data": {
            "text/plain": [
              "'run run hunt hunt hunt'"
            ],
            "application/vnd.google.colaboratory.intrinsic+json": {
              "type": "string"
            }
          },
          "metadata": {},
          "execution_count": 86
        }
      ]
    },
    {
      "cell_type": "markdown",
      "source": [
        "###Lemmatization"
      ],
      "metadata": {
        "id": "WFlv-jV6bF79"
      }
    },
    {
      "cell_type": "code",
      "source": [
        "from nltk import WordNetLemmatizer\n",
        "lemmatizer = WordNetLemmatizer()"
      ],
      "metadata": {
        "id": "92w1VTGTa1aI"
      },
      "execution_count": null,
      "outputs": []
    },
    {
      "cell_type": "code",
      "source": [
        "sentence = \"The hunter was running as fast as he could run but he was hunted down by the hunting wolves\"\n",
        "#one may apply other preprocessing steps before applying lemmatization\n",
        "tokens = nltk.word_tokenize(sentence)\n",
        "print('Word\\tLemma')\n",
        "for token in tokens:\n",
        "  lemma = lemmatizer.lemmatize(token,pos='v')\n",
        "  print (\"{0:20}{1:20}\".format(token,lemma))"
      ],
      "metadata": {
        "colab": {
          "base_uri": "https://localhost:8080/"
        },
        "id": "yX_7v927bdLV",
        "outputId": "3af951c1-b184-44f0-ea99-cc58e1135948"
      },
      "execution_count": null,
      "outputs": [
        {
          "output_type": "stream",
          "name": "stdout",
          "text": [
            "Word\tLemma\n",
            "The                 The                 \n",
            "hunter              hunter              \n",
            "was                 be                  \n",
            "running             run                 \n",
            "as                  as                  \n",
            "fast                fast                \n",
            "as                  as                  \n",
            "he                  he                  \n",
            "could               could               \n",
            "run                 run                 \n",
            "but                 but                 \n",
            "he                  he                  \n",
            "was                 be                  \n",
            "hunted              hunt                \n",
            "down                down                \n",
            "by                  by                  \n",
            "the                 the                 \n",
            "hunting             hunt                \n",
            "wolves              wolves              \n"
          ]
        }
      ]
    }
  ]
}