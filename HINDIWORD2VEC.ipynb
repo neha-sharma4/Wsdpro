{
  "nbformat": 4,
  "nbformat_minor": 0,
  "metadata": {
    "colab": {
      "provenance": []
    },
    "kernelspec": {
      "name": "python3",
      "display_name": "Python 3"
    },
    "language_info": {
      "name": "python"
    }
  },
  "cells": [
    {
      "cell_type": "code",
      "source": [
        "!pip install --upgrade numpy==1.23.5\n",
        "\n",
        "!pip install indic-nlp-library\n",
        "!pip install -U gensim==4.3.1"
      ],
      "metadata": {
        "colab": {
          "base_uri": "https://localhost:8080/",
          "height": 1000
        },
        "id": "qufK1U9xGAH7",
        "outputId": "897daf5a-3907-44b0-9d39-9728abe8ca5a"
      },
      "execution_count": 1,
      "outputs": [
        {
          "output_type": "stream",
          "name": "stdout",
          "text": [
            "Collecting numpy==1.23.5\n",
            "  Downloading numpy-1.23.5-cp311-cp311-manylinux_2_17_x86_64.manylinux2014_x86_64.whl.metadata (2.3 kB)\n",
            "Downloading numpy-1.23.5-cp311-cp311-manylinux_2_17_x86_64.manylinux2014_x86_64.whl (17.1 MB)\n",
            "\u001b[2K   \u001b[90m━━━━━━━━━━━━━━━━━━━━━━━━━━━━━━━━━━━━━━━━\u001b[0m \u001b[32m17.1/17.1 MB\u001b[0m \u001b[31m17.3 MB/s\u001b[0m eta \u001b[36m0:00:00\u001b[0m\n",
            "\u001b[?25hInstalling collected packages: numpy\n",
            "  Attempting uninstall: numpy\n",
            "    Found existing installation: numpy 2.0.2\n",
            "    Uninstalling numpy-2.0.2:\n",
            "      Successfully uninstalled numpy-2.0.2\n",
            "\u001b[31mERROR: pip's dependency resolver does not currently take into account all the packages that are installed. This behaviour is the source of the following dependency conflicts.\n",
            "chex 0.1.89 requires numpy>=1.24.1, but you have numpy 1.23.5 which is incompatible.\n",
            "pymc 5.21.2 requires numpy>=1.25.0, but you have numpy 1.23.5 which is incompatible.\n",
            "scikit-image 0.25.2 requires numpy>=1.24, but you have numpy 1.23.5 which is incompatible.\n",
            "jaxlib 0.5.1 requires numpy>=1.25, but you have numpy 1.23.5 which is incompatible.\n",
            "xarray 2025.1.2 requires numpy>=1.24, but you have numpy 1.23.5 which is incompatible.\n",
            "bigframes 1.42.0 requires numpy>=1.24.0, but you have numpy 1.23.5 which is incompatible.\n",
            "blosc2 3.2.1 requires numpy>=1.26, but you have numpy 1.23.5 which is incompatible.\n",
            "albumentations 2.0.5 requires numpy>=1.24.4, but you have numpy 1.23.5 which is incompatible.\n",
            "treescope 0.1.9 requires numpy>=1.25.2, but you have numpy 1.23.5 which is incompatible.\n",
            "jax 0.5.2 requires numpy>=1.25, but you have numpy 1.23.5 which is incompatible.\n",
            "albucore 0.0.23 requires numpy>=1.24.4, but you have numpy 1.23.5 which is incompatible.\n",
            "imbalanced-learn 0.13.0 requires numpy<3,>=1.24.3, but you have numpy 1.23.5 which is incompatible.\n",
            "tensorflow 2.18.0 requires numpy<2.1.0,>=1.26.0, but you have numpy 1.23.5 which is incompatible.\u001b[0m\u001b[31m\n",
            "\u001b[0mSuccessfully installed numpy-1.23.5\n"
          ]
        },
        {
          "output_type": "display_data",
          "data": {
            "application/vnd.colab-display-data+json": {
              "pip_warning": {
                "packages": [
                  "numpy"
                ]
              },
              "id": "0533c1e7aadf41f9914ab48c49193d97"
            }
          },
          "metadata": {}
        },
        {
          "output_type": "stream",
          "name": "stdout",
          "text": [
            "Collecting indic-nlp-library\n",
            "  Downloading indic_nlp_library-0.92-py3-none-any.whl.metadata (5.7 kB)\n",
            "Collecting sphinx-argparse (from indic-nlp-library)\n",
            "  Downloading sphinx_argparse-0.5.2-py3-none-any.whl.metadata (3.7 kB)\n",
            "Collecting sphinx-rtd-theme (from indic-nlp-library)\n",
            "  Downloading sphinx_rtd_theme-3.0.2-py2.py3-none-any.whl.metadata (4.4 kB)\n",
            "Collecting morfessor (from indic-nlp-library)\n",
            "  Downloading Morfessor-2.0.6-py3-none-any.whl.metadata (628 bytes)\n",
            "Requirement already satisfied: pandas in /usr/local/lib/python3.11/dist-packages (from indic-nlp-library) (2.2.2)\n",
            "Requirement already satisfied: numpy in /usr/local/lib/python3.11/dist-packages (from indic-nlp-library) (1.23.5)\n",
            "Requirement already satisfied: python-dateutil>=2.8.2 in /usr/local/lib/python3.11/dist-packages (from pandas->indic-nlp-library) (2.8.2)\n",
            "Requirement already satisfied: pytz>=2020.1 in /usr/local/lib/python3.11/dist-packages (from pandas->indic-nlp-library) (2025.2)\n",
            "Requirement already satisfied: tzdata>=2022.7 in /usr/local/lib/python3.11/dist-packages (from pandas->indic-nlp-library) (2025.2)\n",
            "Requirement already satisfied: sphinx>=5.1.0 in /usr/local/lib/python3.11/dist-packages (from sphinx-argparse->indic-nlp-library) (8.2.3)\n",
            "Requirement already satisfied: docutils>=0.19 in /usr/local/lib/python3.11/dist-packages (from sphinx-argparse->indic-nlp-library) (0.21.2)\n",
            "Collecting sphinxcontrib-jquery<5,>=4 (from sphinx-rtd-theme->indic-nlp-library)\n",
            "  Downloading sphinxcontrib_jquery-4.1-py2.py3-none-any.whl.metadata (2.6 kB)\n",
            "Requirement already satisfied: six>=1.5 in /usr/local/lib/python3.11/dist-packages (from python-dateutil>=2.8.2->pandas->indic-nlp-library) (1.17.0)\n",
            "Requirement already satisfied: sphinxcontrib-applehelp>=1.0.7 in /usr/local/lib/python3.11/dist-packages (from sphinx>=5.1.0->sphinx-argparse->indic-nlp-library) (2.0.0)\n",
            "Requirement already satisfied: sphinxcontrib-devhelp>=1.0.6 in /usr/local/lib/python3.11/dist-packages (from sphinx>=5.1.0->sphinx-argparse->indic-nlp-library) (2.0.0)\n",
            "Requirement already satisfied: sphinxcontrib-htmlhelp>=2.0.6 in /usr/local/lib/python3.11/dist-packages (from sphinx>=5.1.0->sphinx-argparse->indic-nlp-library) (2.1.0)\n",
            "Requirement already satisfied: sphinxcontrib-jsmath>=1.0.1 in /usr/local/lib/python3.11/dist-packages (from sphinx>=5.1.0->sphinx-argparse->indic-nlp-library) (1.0.1)\n",
            "Requirement already satisfied: sphinxcontrib-qthelp>=1.0.6 in /usr/local/lib/python3.11/dist-packages (from sphinx>=5.1.0->sphinx-argparse->indic-nlp-library) (2.0.0)\n",
            "Requirement already satisfied: sphinxcontrib-serializinghtml>=1.1.9 in /usr/local/lib/python3.11/dist-packages (from sphinx>=5.1.0->sphinx-argparse->indic-nlp-library) (2.0.0)\n",
            "Requirement already satisfied: Jinja2>=3.1 in /usr/local/lib/python3.11/dist-packages (from sphinx>=5.1.0->sphinx-argparse->indic-nlp-library) (3.1.6)\n",
            "Requirement already satisfied: Pygments>=2.17 in /usr/local/lib/python3.11/dist-packages (from sphinx>=5.1.0->sphinx-argparse->indic-nlp-library) (2.18.0)\n",
            "Requirement already satisfied: snowballstemmer>=2.2 in /usr/local/lib/python3.11/dist-packages (from sphinx>=5.1.0->sphinx-argparse->indic-nlp-library) (2.2.0)\n",
            "Requirement already satisfied: babel>=2.13 in /usr/local/lib/python3.11/dist-packages (from sphinx>=5.1.0->sphinx-argparse->indic-nlp-library) (2.17.0)\n",
            "Requirement already satisfied: alabaster>=0.7.14 in /usr/local/lib/python3.11/dist-packages (from sphinx>=5.1.0->sphinx-argparse->indic-nlp-library) (1.0.0)\n",
            "Requirement already satisfied: imagesize>=1.3 in /usr/local/lib/python3.11/dist-packages (from sphinx>=5.1.0->sphinx-argparse->indic-nlp-library) (1.4.1)\n",
            "Requirement already satisfied: requests>=2.30.0 in /usr/local/lib/python3.11/dist-packages (from sphinx>=5.1.0->sphinx-argparse->indic-nlp-library) (2.32.3)\n",
            "Requirement already satisfied: roman-numerals-py>=1.0.0 in /usr/local/lib/python3.11/dist-packages (from sphinx>=5.1.0->sphinx-argparse->indic-nlp-library) (3.1.0)\n",
            "Requirement already satisfied: packaging>=23.0 in /usr/local/lib/python3.11/dist-packages (from sphinx>=5.1.0->sphinx-argparse->indic-nlp-library) (24.2)\n",
            "Requirement already satisfied: MarkupSafe>=2.0 in /usr/local/lib/python3.11/dist-packages (from Jinja2>=3.1->sphinx>=5.1.0->sphinx-argparse->indic-nlp-library) (3.0.2)\n",
            "Requirement already satisfied: charset-normalizer<4,>=2 in /usr/local/lib/python3.11/dist-packages (from requests>=2.30.0->sphinx>=5.1.0->sphinx-argparse->indic-nlp-library) (3.4.1)\n",
            "Requirement already satisfied: idna<4,>=2.5 in /usr/local/lib/python3.11/dist-packages (from requests>=2.30.0->sphinx>=5.1.0->sphinx-argparse->indic-nlp-library) (3.10)\n",
            "Requirement already satisfied: urllib3<3,>=1.21.1 in /usr/local/lib/python3.11/dist-packages (from requests>=2.30.0->sphinx>=5.1.0->sphinx-argparse->indic-nlp-library) (2.3.0)\n",
            "Requirement already satisfied: certifi>=2017.4.17 in /usr/local/lib/python3.11/dist-packages (from requests>=2.30.0->sphinx>=5.1.0->sphinx-argparse->indic-nlp-library) (2025.1.31)\n",
            "Downloading indic_nlp_library-0.92-py3-none-any.whl (40 kB)\n",
            "\u001b[2K   \u001b[90m━━━━━━━━━━━━━━━━━━━━━━━━━━━━━━━━━━━━━━━━\u001b[0m \u001b[32m40.3/40.3 kB\u001b[0m \u001b[31m603.0 kB/s\u001b[0m eta \u001b[36m0:00:00\u001b[0m\n",
            "\u001b[?25hDownloading Morfessor-2.0.6-py3-none-any.whl (35 kB)\n",
            "Downloading sphinx_argparse-0.5.2-py3-none-any.whl (12 kB)\n",
            "Downloading sphinx_rtd_theme-3.0.2-py2.py3-none-any.whl (7.7 MB)\n",
            "\u001b[2K   \u001b[90m━━━━━━━━━━━━━━━━━━━━━━━━━━━━━━━━━━━━━━━━\u001b[0m \u001b[32m7.7/7.7 MB\u001b[0m \u001b[31m47.1 MB/s\u001b[0m eta \u001b[36m0:00:00\u001b[0m\n",
            "\u001b[?25hDownloading sphinxcontrib_jquery-4.1-py2.py3-none-any.whl (121 kB)\n",
            "\u001b[2K   \u001b[90m━━━━━━━━━━━━━━━━━━━━━━━━━━━━━━━━━━━━━━━━\u001b[0m \u001b[32m121.1/121.1 kB\u001b[0m \u001b[31m7.5 MB/s\u001b[0m eta \u001b[36m0:00:00\u001b[0m\n",
            "\u001b[?25hInstalling collected packages: morfessor, sphinxcontrib-jquery, sphinx-argparse, sphinx-rtd-theme, indic-nlp-library\n",
            "Successfully installed indic-nlp-library-0.92 morfessor-2.0.6 sphinx-argparse-0.5.2 sphinx-rtd-theme-3.0.2 sphinxcontrib-jquery-4.1\n",
            "^C\n"
          ]
        }
      ]
    },
    {
      "cell_type": "code",
      "execution_count": 1,
      "metadata": {
        "id": "OxnnIxR6EEIf"
      },
      "outputs": [],
      "source": [
        "hindi_text = \"\"\"\n",
        "भारत एशिया में स्थित एक देश है। इसकी राजधानी नई दिल्ली है। यहाँ की संस्कृति बहुत पुरानी और समृद्ध है।\n",
        "लोग विभिन्न भाषाएँ बोलते हैं और त्योहार बड़े उत्साह से मनाते हैं।\n",
        "\"\"\"\n"
      ]
    },
    {
      "cell_type": "code",
      "source": [
        "# Initialize Indic NLP\n",
        "from indicnlp import common\n",
        "from indicnlp.tokenize import indic_tokenize\n",
        "\n",
        "common.set_resources_path(\"indic_nlp_resources\")\n",
        "\n",
        "text = \"भारत एक महान देश है। हम सब भारतीय हैं।\"\n",
        "tokens = indic_tokenize.trivial_tokenize(text, lang='hi')\n",
        "print(tokens)\n"
      ],
      "metadata": {
        "colab": {
          "base_uri": "https://localhost:8080/"
        },
        "id": "Yovbsr0HEwdR",
        "outputId": "25f83ad9-e4b3-4c38-a3e2-4503eb4b39c2"
      },
      "execution_count": 2,
      "outputs": [
        {
          "output_type": "stream",
          "name": "stdout",
          "text": [
            "['भारत', 'एक', 'महान', 'देश', 'है', '।', 'हम', 'सब', 'भारतीय', 'हैं', '।']\n"
          ]
        }
      ]
    },
    {
      "cell_type": "code",
      "source": [
        "# Force reinstall with compatible versions\n",
        "!pip uninstall -y numpy scipy gensim\n",
        "!pip install numpy==1.23.5 scipy==1.10.1 gensim==4.3.1\n"
      ],
      "metadata": {
        "colab": {
          "base_uri": "https://localhost:8080/",
          "height": 824
        },
        "id": "3GGG8lotG4nA",
        "outputId": "d8b7bb46-6e32-401b-a54a-58a3799256f9"
      },
      "execution_count": 3,
      "outputs": [
        {
          "output_type": "stream",
          "name": "stdout",
          "text": [
            "Found existing installation: numpy 1.23.5\n",
            "Uninstalling numpy-1.23.5:\n",
            "  Successfully uninstalled numpy-1.23.5\n",
            "Found existing installation: scipy 1.14.1\n",
            "Uninstalling scipy-1.14.1:\n",
            "  Successfully uninstalled scipy-1.14.1\n",
            "\u001b[33mWARNING: Skipping gensim as it is not installed.\u001b[0m\u001b[33m\n",
            "\u001b[0mCollecting numpy==1.23.5\n",
            "  Using cached numpy-1.23.5-cp311-cp311-manylinux_2_17_x86_64.manylinux2014_x86_64.whl.metadata (2.3 kB)\n",
            "Collecting scipy==1.10.1\n",
            "  Downloading scipy-1.10.1-cp311-cp311-manylinux_2_17_x86_64.manylinux2014_x86_64.whl.metadata (58 kB)\n",
            "\u001b[2K     \u001b[90m━━━━━━━━━━━━━━━━━━━━━━━━━━━━━━━━━━━━━━━━\u001b[0m \u001b[32m58.9/58.9 kB\u001b[0m \u001b[31m2.4 MB/s\u001b[0m eta \u001b[36m0:00:00\u001b[0m\n",
            "\u001b[?25hCollecting gensim==4.3.1\n",
            "  Downloading gensim-4.3.1-cp311-cp311-manylinux_2_17_x86_64.manylinux2014_x86_64.whl.metadata (8.4 kB)\n",
            "Requirement already satisfied: smart-open>=1.8.1 in /usr/local/lib/python3.11/dist-packages (from gensim==4.3.1) (7.1.0)\n",
            "Requirement already satisfied: wrapt in /usr/local/lib/python3.11/dist-packages (from smart-open>=1.8.1->gensim==4.3.1) (1.17.2)\n",
            "Using cached numpy-1.23.5-cp311-cp311-manylinux_2_17_x86_64.manylinux2014_x86_64.whl (17.1 MB)\n",
            "Downloading scipy-1.10.1-cp311-cp311-manylinux_2_17_x86_64.manylinux2014_x86_64.whl (34.1 MB)\n",
            "\u001b[2K   \u001b[90m━━━━━━━━━━━━━━━━━━━━━━━━━━━━━━━━━━━━━━━━\u001b[0m \u001b[32m34.1/34.1 MB\u001b[0m \u001b[31m17.7 MB/s\u001b[0m eta \u001b[36m0:00:00\u001b[0m\n",
            "\u001b[?25hDownloading gensim-4.3.1-cp311-cp311-manylinux_2_17_x86_64.manylinux2014_x86_64.whl (26.6 MB)\n",
            "\u001b[2K   \u001b[90m━━━━━━━━━━━━━━━━━━━━━━━━━━━━━━━━━━━━━━━━\u001b[0m \u001b[32m26.6/26.6 MB\u001b[0m \u001b[31m48.3 MB/s\u001b[0m eta \u001b[36m0:00:00\u001b[0m\n",
            "\u001b[?25hInstalling collected packages: numpy, scipy, gensim\n",
            "\u001b[31mERROR: pip's dependency resolver does not currently take into account all the packages that are installed. This behaviour is the source of the following dependency conflicts.\n",
            "chex 0.1.89 requires numpy>=1.24.1, but you have numpy 1.23.5 which is incompatible.\n",
            "pymc 5.21.2 requires numpy>=1.25.0, but you have numpy 1.23.5 which is incompatible.\n",
            "scikit-image 0.25.2 requires numpy>=1.24, but you have numpy 1.23.5 which is incompatible.\n",
            "scikit-image 0.25.2 requires scipy>=1.11.4, but you have scipy 1.10.1 which is incompatible.\n",
            "jaxlib 0.5.1 requires numpy>=1.25, but you have numpy 1.23.5 which is incompatible.\n",
            "jaxlib 0.5.1 requires scipy>=1.11.1, but you have scipy 1.10.1 which is incompatible.\n",
            "xarray 2025.1.2 requires numpy>=1.24, but you have numpy 1.23.5 which is incompatible.\n",
            "bigframes 1.42.0 requires numpy>=1.24.0, but you have numpy 1.23.5 which is incompatible.\n",
            "blosc2 3.2.1 requires numpy>=1.26, but you have numpy 1.23.5 which is incompatible.\n",
            "albumentations 2.0.5 requires numpy>=1.24.4, but you have numpy 1.23.5 which is incompatible.\n",
            "treescope 0.1.9 requires numpy>=1.25.2, but you have numpy 1.23.5 which is incompatible.\n",
            "cvxpy 1.6.4 requires scipy>=1.11.0, but you have scipy 1.10.1 which is incompatible.\n",
            "jax 0.5.2 requires numpy>=1.25, but you have numpy 1.23.5 which is incompatible.\n",
            "jax 0.5.2 requires scipy>=1.11.1, but you have scipy 1.10.1 which is incompatible.\n",
            "albucore 0.0.23 requires numpy>=1.24.4, but you have numpy 1.23.5 which is incompatible.\n",
            "imbalanced-learn 0.13.0 requires numpy<3,>=1.24.3, but you have numpy 1.23.5 which is incompatible.\n",
            "tensorflow 2.18.0 requires numpy<2.1.0,>=1.26.0, but you have numpy 1.23.5 which is incompatible.\u001b[0m\u001b[31m\n",
            "\u001b[0mSuccessfully installed gensim-4.3.1 numpy-1.23.5 scipy-1.10.1\n"
          ]
        },
        {
          "output_type": "display_data",
          "data": {
            "application/vnd.colab-display-data+json": {
              "pip_warning": {
                "packages": [
                  "numpy"
                ]
              },
              "id": "78e0e173d8e64d29848b4c70c8d8cb13"
            }
          },
          "metadata": {}
        }
      ]
    },
    {
      "cell_type": "code",
      "source": [
        "from gensim.models import Word2Vec\n",
        "\n",
        "# Example tokenized Hindi sentences\n",
        "sentences = [\n",
        "    [\"भारत\", \"एक\", \"महान\", \"देश\", \"है\"],\n",
        "    [\"हम\", \"सब\", \"भारतीय\", \"हैं\"],\n",
        "    [\"यहाँ\", \"की\", \"संस्कृति\", \"बहुत\", \"पुरानी\", \"है\"]\n",
        "]\n",
        "\n",
        "# Train Word2Vec model\n",
        "model = Word2Vec(sentences, vector_size=100, window=5, min_count=1, workers=4)\n",
        "\n",
        "# Save model\n",
        "model.save(\"hindi_word2vec.model\")\n",
        "\n",
        "# Load model and get word vector\n",
        "print(\"Vector for 'भारत':\\n\", model.wv[\"भारत\"])\n"
      ],
      "metadata": {
        "colab": {
          "base_uri": "https://localhost:8080/"
        },
        "id": "m65pl0sJExJQ",
        "outputId": "9925bc1c-b874-41a3-890d-bdaa4ba7408c"
      },
      "execution_count": 1,
      "outputs": [
        {
          "output_type": "stream",
          "name": "stdout",
          "text": [
            "Vector for 'भारत':\n",
            " [-0.00950012  0.00956222 -0.00777076 -0.00264551 -0.00490641 -0.0049667\n",
            " -0.00802359 -0.00778358 -0.00455321 -0.00127536 -0.00510299  0.00614054\n",
            " -0.00951662 -0.0053071   0.00943715  0.00699133  0.00767582  0.00423474\n",
            "  0.00050709 -0.00598114  0.00601878  0.00263503  0.00769943  0.00639384\n",
            "  0.00794257  0.00865741 -0.00989575 -0.0067557   0.00133757  0.0064403\n",
            "  0.00737382  0.00551698  0.00766163 -0.00512557  0.00658441 -0.00410837\n",
            " -0.00905534  0.00914168  0.0013314  -0.00275968 -0.00247784 -0.00422048\n",
            "  0.00481234  0.00440022 -0.00265336 -0.00734188 -0.00356585 -0.00033661\n",
            "  0.00609589 -0.00283734 -0.00012089  0.00087973 -0.00709565  0.002065\n",
            " -0.00143242  0.00280215  0.00484222 -0.00135202 -0.00278014  0.00773865\n",
            "  0.0050456   0.00671352  0.00451564  0.00866716  0.00747497 -0.00108189\n",
            "  0.00874764  0.00460172  0.00544063 -0.00138608 -0.00204132 -0.00442435\n",
            " -0.0085152   0.00303773  0.00888319  0.00891974 -0.00194235  0.00608616\n",
            "  0.00377972 -0.00429597  0.00204292 -0.00543789  0.00820889  0.00543291\n",
            "  0.00318443  0.00410257  0.00865715  0.00727203 -0.00083347 -0.00707277\n",
            "  0.00838047  0.00723358  0.00173047 -0.00134749 -0.00589009 -0.00453309\n",
            "  0.00864797 -0.00313511 -0.00633882  0.00987008]\n"
          ]
        }
      ]
    },
    {
      "cell_type": "code",
      "source": [
        "!wget https://dl.fbaipublicfiles.com/fasttext/vectors-crawl/cc.hi.300.vec.gz\n"
      ],
      "metadata": {
        "colab": {
          "base_uri": "https://localhost:8080/"
        },
        "id": "TFuJzOtHHECM",
        "outputId": "b7a1cacb-f90d-41c6-9b84-c9323b4e116a"
      },
      "execution_count": 2,
      "outputs": [
        {
          "output_type": "stream",
          "name": "stdout",
          "text": [
            "--2025-04-10 14:51:58--  https://dl.fbaipublicfiles.com/fasttext/vectors-crawl/cc.hi.300.vec.gz\n",
            "Resolving dl.fbaipublicfiles.com (dl.fbaipublicfiles.com)... 18.173.166.48, 18.173.166.74, 18.173.166.51, ...\n",
            "Connecting to dl.fbaipublicfiles.com (dl.fbaipublicfiles.com)|18.173.166.48|:443... connected.\n",
            "HTTP request sent, awaiting response... 200 OK\n",
            "Length: 1118942272 (1.0G) [binary/octet-stream]\n",
            "Saving to: ‘cc.hi.300.vec.gz’\n",
            "\n",
            "cc.hi.300.vec.gz    100%[===================>]   1.04G  46.0MB/s    in 22s     \n",
            "\n",
            "2025-04-10 14:52:20 (49.5 MB/s) - ‘cc.hi.300.vec.gz’ saved [1118942272/1118942272]\n",
            "\n"
          ]
        }
      ]
    },
    {
      "cell_type": "code",
      "source": [
        "!gunzip cc.hi.300.vec.gz\n"
      ],
      "metadata": {
        "id": "YvbxBBR2JQtv"
      },
      "execution_count": 3,
      "outputs": []
    },
    {
      "cell_type": "code",
      "source": [
        "from gensim.models import KeyedVectors\n",
        "\n",
        "# Load the Hindi FastText word vectors\n",
        "model = KeyedVectors.load_word2vec_format('cc.hi.300.vec', binary=False)\n",
        "\n",
        "# Test the model\n",
        "print(\"Vector for भारत:\\n\", model[\"भारत\"])\n"
      ],
      "metadata": {
        "id": "2I1FVVENJTcn",
        "colab": {
          "base_uri": "https://localhost:8080/"
        },
        "outputId": "cf80dcba-786c-4d8b-97ff-cfce741e01c9"
      },
      "execution_count": 4,
      "outputs": [
        {
          "output_type": "stream",
          "name": "stdout",
          "text": [
            "Vector for भारत:\n",
            " [ 2.530e-02 -4.500e-03 -2.860e-02 -2.900e-02 -2.600e-02  2.300e-03\n",
            "  3.540e-02  2.500e-02 -2.310e-02  1.300e-03  2.870e-02 -5.100e-03\n",
            "  1.320e-02 -2.000e-02 -8.000e-04  1.880e-02  7.670e-02  1.820e-02\n",
            "  1.350e-02  2.234e-01 -2.210e-02 -1.180e-02  1.870e-02  1.560e-02\n",
            " -4.460e-02 -2.700e-02  3.260e-02 -7.090e-02 -2.200e-02  2.740e-02\n",
            "  2.440e-02 -1.380e-02  3.420e-02  1.910e-02 -3.890e-02 -3.980e-02\n",
            " -2.020e-02 -5.100e-03 -2.500e-02  4.980e-02 -2.000e-03 -7.700e-03\n",
            "  6.100e-03 -6.500e-03 -4.540e-02  1.455e-01 -1.620e-02 -2.500e-02\n",
            " -3.220e-02  2.760e-02 -2.910e-02 -2.830e-02 -2.390e-02  3.270e-02\n",
            " -2.190e-02  1.000e-03  3.520e-02  1.900e-03  2.800e-02 -4.600e-03\n",
            " -5.680e-02 -9.050e-02 -3.000e-04  2.570e-02  2.130e-02 -7.220e-02\n",
            "  2.340e-02 -5.420e-02  1.520e-02 -2.880e-02 -1.090e-02 -8.940e-02\n",
            "  2.740e-02 -5.010e-02 -3.700e-02  1.170e-02 -1.230e-02 -1.000e-02\n",
            "  1.150e-02  2.570e-02  1.200e-03 -1.650e-02  2.350e-02  9.000e-03\n",
            "  1.000e-04 -1.770e-02  6.700e-03  1.510e-02  9.950e-02 -1.822e-01\n",
            " -2.720e-02 -4.610e-02 -1.710e-02  3.920e-02 -2.180e-02 -5.800e-03\n",
            "  3.150e-02 -5.490e-02  1.570e-02  1.960e-02 -1.960e-02  3.030e-02\n",
            "  7.600e-03 -1.170e-02 -1.670e-02 -1.250e-02  3.800e-03 -2.950e-02\n",
            "  6.980e-02  3.480e-02 -2.030e-02 -1.090e-02  1.460e-02 -5.920e-02\n",
            "  4.920e-02  2.770e-02 -3.440e-02 -2.020e-02  8.100e-02 -4.600e-03\n",
            " -4.800e-02  8.440e-02  8.800e-03  3.360e-02  7.000e-04  7.240e-02\n",
            " -2.950e-02 -1.348e-01  2.030e-02  5.500e-03  7.800e-03 -2.570e-02\n",
            " -3.440e-02  3.710e-02  4.600e-02  3.690e-02  1.960e-02 -3.780e-02\n",
            " -1.700e-03  2.130e-02  1.290e-02 -4.460e-02 -4.500e-03  1.110e-02\n",
            " -7.500e-03  7.500e-03 -7.000e-03 -3.490e-02  9.900e-03  2.120e-02\n",
            " -2.960e-02  1.020e-02  2.630e-02 -1.044e-01 -6.400e-03  2.130e-02\n",
            " -5.800e-03  6.600e-03 -2.130e-02  4.670e-02 -4.030e-02 -1.080e-01\n",
            " -1.370e-02 -1.880e-02  3.110e-02 -1.700e-02  1.160e-02  1.370e-02\n",
            " -1.070e-02  1.920e-02 -2.500e-03 -2.790e-02 -1.466e-01  6.980e-02\n",
            " -1.140e-02  3.600e-03  3.500e-03 -6.660e-02 -2.450e-02  1.723e-01\n",
            "  3.090e-02  5.180e-02  5.840e-02  8.300e-03 -4.030e-02 -3.430e-02\n",
            "  4.110e-02 -5.810e-02 -3.760e-02 -1.190e-02 -6.700e-03 -1.530e-02\n",
            " -1.520e-02  1.710e-02  3.500e-02 -7.300e-03  1.200e-03  3.700e-03\n",
            "  1.011e-01 -4.600e-03  2.220e-02  6.990e-02 -7.900e-03 -3.020e-02\n",
            " -3.610e-02  2.920e-02 -1.300e-02 -2.490e-02  5.390e-02  4.430e-02\n",
            "  1.010e-02 -3.420e-02  1.790e-02  2.850e-02 -1.430e-02 -4.530e-02\n",
            "  1.450e-02  1.190e-02 -9.100e-03  8.700e-03  4.300e-03 -1.026e-01\n",
            "  5.000e-03  4.910e-02  3.980e-02 -3.230e-02 -6.180e-02 -4.100e-03\n",
            " -1.550e-02 -1.890e-02  1.062e-01 -1.890e-02  3.950e-02 -1.640e-02\n",
            " -2.720e-02  2.180e-02 -4.760e-02 -3.500e-03  1.480e-02 -1.180e-02\n",
            " -1.480e-02  1.620e-02  7.300e-03 -6.250e-02  1.730e-02  2.860e-02\n",
            " -4.380e-02  2.400e-03  6.670e-02 -8.300e-02 -3.750e-02 -2.430e-02\n",
            "  4.270e-02  8.400e-03 -6.450e-02  7.500e-03 -4.780e-02 -6.930e-02\n",
            "  5.740e-02 -9.500e-03  4.660e-02 -5.600e-03 -9.600e-03  1.860e-02\n",
            " -6.290e-02  4.600e-03  7.300e-03  2.390e-02 -2.000e-04 -5.850e-02\n",
            " -7.400e-03  2.940e-02 -3.500e-02 -5.900e-03 -7.060e-02  1.950e-02\n",
            "  4.810e-02 -1.920e-02 -2.040e-02 -9.000e-04 -6.380e-02  5.980e-02\n",
            " -2.800e-03  2.160e-02  1.230e-02 -1.410e-02 -1.060e-02 -1.360e-02\n",
            "  4.630e-02 -4.060e-02  3.270e-02  3.700e-03 -1.230e-02  1.490e-02\n",
            "  2.090e-02 -2.330e-02  7.830e-02 -3.420e-02  8.310e-02  7.900e-03]\n"
          ]
        }
      ]
    },
    {
      "cell_type": "code",
      "source": [
        "similar_words = model.most_similar(\"भारत\", topn=10)\n",
        "for word, similarity in similar_words:\n",
        "    print(f\"{word}: {similarity:.4f}\")\n"
      ],
      "metadata": {
        "id": "Uvqn1jxKJVVC",
        "colab": {
          "base_uri": "https://localhost:8080/"
        },
        "outputId": "560db1dc-706d-4c9f-dcec-5872193ac78c"
      },
      "execution_count": 5,
      "outputs": [
        {
          "output_type": "stream",
          "name": "stdout",
          "text": [
            "देश: 0.6862\n",
            "भारतीय: 0.6340\n",
            "पाकिस्तान: 0.6237\n",
            "राज्य: 0.6183\n",
            "विश्व: 0.5960\n",
            "चीन: 0.5896\n",
            "प्रदेश: 0.5876\n",
            "अमेरिका: 0.5865\n",
            "ब्रिटिश: 0.5657\n",
            "दक्षिण: 0.5628\n"
          ]
        }
      ]
    },
    {
      "cell_type": "code",
      "source": [
        "similar_words = model.most_similar(\"शिक्षा\", topn=10)\n",
        "for word, similarity in similar_words:\n",
        "    print(f\"{word}: {similarity:.4f}\")\n"
      ],
      "metadata": {
        "colab": {
          "base_uri": "https://localhost:8080/"
        },
        "id": "auvjRXP1OKHd",
        "outputId": "b9474423-26f3-4ef2-e41d-81bec7e6b5f4"
      },
      "execution_count": 6,
      "outputs": [
        {
          "output_type": "stream",
          "name": "stdout",
          "text": [
            "शिक्षाशिक्षा: 0.6962\n",
            "है.शिक्षा: 0.6750\n",
            "शिक्षा12: 0.6745\n",
            "मा.शिक्षा: 0.6712\n",
            "खंडशिक्षा: 0.6706\n",
            "यौनशिक्षा: 0.6664\n",
            "जनशिक्षा: 0.6619\n",
            "कीशिक्षा: 0.6614\n",
            "स्कूलशिक्षा: 0.6607\n",
            "राजशिक्षा: 0.6606\n"
          ]
        }
      ]
    },
    {
      "cell_type": "code",
      "source": [
        "word = \"विद्यालय\"  # school\n",
        "similar_words = model.most_similar(word, topn=10)\n",
        "for w, sim in similar_words:\n",
        "    print(f\"{w}: {sim:.4f}\")\n"
      ],
      "metadata": {
        "colab": {
          "base_uri": "https://localhost:8080/"
        },
        "id": "863gluohOukS",
        "outputId": "fdd850e0-13b5-4cd4-f621-d8201ea07c3e"
      },
      "execution_count": 8,
      "outputs": [
        {
          "output_type": "stream",
          "name": "stdout",
          "text": [
            "विद्यालयों: 0.6959\n",
            "विद्यालया: 0.6723\n",
            "विद्यालयः: 0.6584\n",
            "विद्याल: 0.6558\n",
            "विद्यालयैं: 0.6489\n",
            "बिद्यालय: 0.6365\n",
            "स्कूल: 0.6363\n",
            "विद्यायल: 0.6308\n",
            "विद्यालयमैं: 0.6299\n",
            "विद्यालयो: 0.6280\n"
          ]
        }
      ]
    },
    {
      "cell_type": "code",
      "source": [
        "similar_words = model.most_similar(\"महिला\", topn=10)\n",
        "for word, similarity in similar_words:\n",
        "    print(f\"{word}: {similarity:.4f}\")\n"
      ],
      "metadata": {
        "colab": {
          "base_uri": "https://localhost:8080/"
        },
        "id": "-JpCVzrdO0ol",
        "outputId": "467a80fa-1cfc-4e30-e563-69dd9175a278"
      },
      "execution_count": 9,
      "outputs": [
        {
          "output_type": "stream",
          "name": "stdout",
          "text": [
            "पुरुष: 0.6207\n",
            "महिलाओं: 0.6135\n",
            "महिलाएं: 0.6125\n",
            "महिलागोल: 0.6029\n",
            "महिलाBy: 0.5915\n",
            "महिलांए: 0.5897\n",
            "महिलाऎं: 0.5828\n",
            "पुरुष:महिला: 0.5805\n",
            "पुरूष: 0.5768\n",
            "महिलाऔ: 0.5761\n"
          ]
        }
      ]
    },
    {
      "cell_type": "code",
      "source": [],
      "metadata": {
        "id": "FYhUUA3IO8Yd"
      },
      "execution_count": null,
      "outputs": []
    }
  ]
}